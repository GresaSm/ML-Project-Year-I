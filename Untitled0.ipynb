{
  "nbformat": 4,
  "nbformat_minor": 0,
  "metadata": {
    "colab": {
      "provenance": [],
      "authorship_tag": "ABX9TyM8KjafkFTpRzAZ1FYLGfqv",
      "include_colab_link": true
    },
    "kernelspec": {
      "name": "python3",
      "display_name": "Python 3"
    },
    "language_info": {
      "name": "python"
    }
  },
  "cells": [
    {
      "cell_type": "markdown",
      "metadata": {
        "id": "view-in-github",
        "colab_type": "text"
      },
      "source": [
        "<a href=\"https://colab.research.google.com/github/GresaSm/ML-Project-Year-I/blob/main/Untitled0.ipynb\" target=\"_parent\"><img src=\"https://colab.research.google.com/assets/colab-badge.svg\" alt=\"Open In Colab\"/></a>"
      ]
    },
    {
      "cell_type": "code",
      "execution_count": 7,
      "metadata": {
        "id": "KS7IUrqJQPaa"
      },
      "outputs": [],
      "source": [
        "# Code to read csv file into Colaboratory:\n",
        "!pip install -U -q PyDrive\n",
        "from pydrive.auth import GoogleAuth\n",
        "from pydrive.drive import GoogleDrive\n",
        "from google.colab import auth\n",
        "from oauth2client.client import GoogleCredentials\n",
        "\n",
        "# Authenticate and create the PyDrive client.\n",
        "auth.authenticate_user()\n",
        "gauth = GoogleAuth()\n",
        "gauth.credentials = GoogleCredentials.get_application_default()\n",
        "drive = GoogleDrive(gauth)"
      ]
    },
    {
      "cell_type": "code",
      "source": [
        "link = 'https://drive.google.com/file/d/1wFPytnBqOHa3zyiHrWH7SWejUhxDJcFD/view?usp=share_link' # The shareable link\n",
        "\n",
        "import pandas as pd\n",
        " \n",
        "# to get the id part of the file\n",
        "id = link.split(\"/\")[-2]\n",
        " \n",
        "downloaded = drive.CreateFile({'id':id})\n",
        "downloaded.GetContentFile('april_2019.csv') \n",
        " \n",
        "df = pd.read_csv('april_2019.csv')\n",
        "df.columns.values"
      ],
      "metadata": {
        "colab": {
          "base_uri": "https://localhost:8080/"
        },
        "id": "4LVIABsYRaFW",
        "outputId": "36cfbe7f-c4ee-4b7b-dd97-8a378585c522"
      },
      "execution_count": 12,
      "outputs": [
        {
          "output_type": "stream",
          "name": "stderr",
          "text": [
            "/usr/local/lib/python3.7/dist-packages/IPython/core/interactiveshell.py:3326: DtypeWarning: Columns (32,185,343) have mixed types.Specify dtype option on import or set low_memory=False.\n",
            "  exec(code_obj, self.user_global_ns, self.user_ns)\n"
          ]
        },
        {
          "output_type": "execute_result",
          "data": {
            "text/plain": [
              "array(['Unnamed: 0', 'DIRECTORIO_x', 'SECUENCIA_P_x', 'ORDEN_x',\n",
              "       'HOGAR_x', 'P6016', 'P6020', 'P6030S1', 'P6030S3', 'P6040',\n",
              "       'P6050', 'P6070', 'P6081', 'P6081S1', 'P6083', 'P6083S1', 'P6071',\n",
              "       'P6071S1', 'P6090', 'P6140', 'P6150', 'P6100', 'P6110', 'P6120',\n",
              "       'P6125', 'P6160', 'P6170', 'P6175', 'P6210', 'P6210S1', 'P6220',\n",
              "       'P6269', 'ESC', 'DPTO_x', 'base_x', 'code', 'DIRECTORIO_y',\n",
              "       'SECUENCIA_P_y', 'ORDEN_y', 'HOGAR_y', 'REGIS_y', 'P7250', 'P7260',\n",
              "       'P7280', 'P7280S1', 'P7310', 'P7320', 'P7350', 'P7350S1', 'P7360',\n",
              "       'P9460', 'P7390', 'P7390S1', 'P7420', 'P7420S1', 'P7420S2',\n",
              "       'P7420S3', 'P7420S4', 'P7420S5', 'P7420S6', 'P7420S7', 'P7420S7A1',\n",
              "       'P7420S8', 'P7422', 'P7422S1', 'P1806', 'P1519', 'P1883',\n",
              "       'OFICIO1', 'OFICIO2', 'RAMA2D_D', 'DSI', 'DSCY', 'RAMA4D_D',\n",
              "       'MES_y', 'DPTO_y', 'base_y', 'P7430', 'P7440', 'P7450', 'P7450S1',\n",
              "       'P7452', 'P7454', 'P7456', 'P7458', 'P7458S1', 'P7460', 'P7470',\n",
              "       'P7472', 'P7472S1', 'P744', 'P1884', 'P1807', 'P6921', 'INI',\n",
              "       'P388', 'P6440', 'P6450', 'P6460', 'P6460S1', 'P6400', 'P6410',\n",
              "       'P6410S1', 'P6422', 'P6424S1', 'P6424S2', 'P6424S3', 'P6426',\n",
              "       'P6430S1', 'P6480', 'P6480S1', 'P9440', 'P6500', 'P6510',\n",
              "       'P6510S1', 'P6510S2', 'P6590', 'P6590S1', 'P6600', 'P6600S1',\n",
              "       'P6610', 'P6610S1', 'P6620', 'P6620S1', 'P6585S1', 'P6585S1A1',\n",
              "       'P6585S1A2', 'P6585S2', 'P6585S2A1', 'P6585S2A2', 'P6585S3',\n",
              "       'P6585S3A1', 'P6585S3A2', 'P6585S4', 'P6585S4A1', 'P6585S4A2',\n",
              "       'P6545', 'P6545S1', 'P6545S2', 'P6580', 'P6580S1', 'P6580S2',\n",
              "       'P6630S1', 'P6630S1A1', 'P6630S2', 'P6630S2A1', 'P6630S3',\n",
              "       'P6630S3A1', 'P6630S4', 'P6630S4A1', 'P6630S6', 'P6630S6A1',\n",
              "       'P6640', 'P6640S1', 'P6765', 'P6765S1', 'P6772', 'P6772S1',\n",
              "       'P6773S1', 'P6775', 'P6750', 'P6760', 'P550', 'P6780', 'P6780S1',\n",
              "       'P6790', 'P1800', 'P1800S1', 'P1801S1', 'P1801S2', 'P1801S3',\n",
              "       'P1802', 'P1879', 'P1805', 'P6800', 'P6810', 'P6810S1', 'P6850',\n",
              "       'P6830', 'P6830S1', 'P6870', 'P6880', 'P6880S1', 'P6915',\n",
              "       'P6915S1', 'P6920', 'P6930', 'P6940', 'P6960', 'P6980', 'P6980S1',\n",
              "       'P6980S2', 'P6980S3', 'P6980S4', 'P6980S5', 'P6980S6', 'P6980S7',\n",
              "       'P6980S7A1', 'P6980S8', 'P6990', 'P9450', 'P7020', 'P760', 'P7026',\n",
              "       'P7028', 'P7028S1', 'P7040', 'P390', 'P7045', 'P7050', 'P7050S1',\n",
              "       'P7070', 'P7075', 'P7077', 'P1880', 'P1881', 'P1882', 'P7090',\n",
              "       'P7100', 'P7110', 'P7120', 'P7130', 'P7140', 'P7140S1', 'P7140S2',\n",
              "       'P7140S3', 'P7140S4', 'P7140S5', 'P7140S6', 'P7140S7', 'P7140S8',\n",
              "       'P7140S9', 'P7140S9A1', 'P7150', 'P7160', 'P7170S1', 'P7170S5',\n",
              "       'P7170S6', 'P7180', 'P514', 'P515', 'P7240', 'P7240S1', 'OFICIO',\n",
              "       'RAMA2D', 'OCI', 'P6430', 'RAMA4D', 'RAMA4DP8', 'RAMA2DP8',\n",
              "       'INGLABO', 'DIRECTORIO_x.1', 'SECUENCIA_P_x.1', 'ORDEN_x.1',\n",
              "       'HOGAR_x.1', 'P6290', 'P6290S1', 'P6230', 'P6240', 'P6240S1',\n",
              "       'P6250', 'P6260', 'P6270', 'P6280', 'P6300', 'P6310', 'P6310S1',\n",
              "       'P6320', 'P6330', 'P6340', 'P6350', 'P6351', 'DPTO_x.1',\n",
              "       'base_x.1', 'DIRECTORIO_y.1', 'SECUENCIA_P_y.1', 'ORDEN_y.1',\n",
              "       'HOGAR_y.1', 'REGIS_y.1', 'P7480S1', 'P7480S1A1', 'P7480S3',\n",
              "       'P7480S3A1', 'P7480S4', 'P7480S4A1', 'P7480S5', 'P7480S5A1',\n",
              "       'P7480S6', 'P7480S6A1', 'P7480S7', 'P7480S7A1', 'P7480S8',\n",
              "       'P7480S8A1', 'P7480S9', 'P7480S9A1', 'P7480S10', 'P7480S10A1',\n",
              "       'P7480S11', 'P7480S11A1', 'MES_y.1', 'DPTO_y.1', 'base_y.1',\n",
              "       'DIRECTORIO', 'SECUENCIA_P', 'ORDEN', 'HOGAR', 'REGIS', 'P7495',\n",
              "       'P7500S1', 'P7500S1A1', 'P7500S2', 'P7500S2A1', 'P7500S3',\n",
              "       'P7500S3A1', 'P7505', 'P7510S1', 'P7510S1A1', 'P7510S2',\n",
              "       'P7510S2A1', 'P7510S3', 'P7510S3A1', 'P750S1', 'P750S1A1',\n",
              "       'P750S2', 'P750S2A1', 'P1661S1', 'P1661S1A1', 'P1661S2',\n",
              "       'P1661S2A1', 'P1661S3', 'P1661S3A1', 'P1661S4', 'P1661S4A1',\n",
              "       'P1661S4A2', 'P750S3', 'P750S3A1', 'P750S4', 'P7510S5',\n",
              "       'P7510S5A1', 'P7510S6', 'P7510S6A1', 'P7510S7', 'P7510S7A1',\n",
              "       'AREA', 'MES', 'DPTO', 'fex_c_2011', 'base', 'CLASE'], dtype=object)"
            ]
          },
          "metadata": {},
          "execution_count": 12
        }
      ]
    },
    {
      "cell_type": "code",
      "source": [],
      "metadata": {
        "id": "Fvsv1GPhRgpD"
      },
      "execution_count": null,
      "outputs": []
    }
  ]
}