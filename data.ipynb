{
  "cells": [
    {
      "cell_type": "markdown",
      "metadata": {
        "id": "view-in-github",
        "colab_type": "text"
      },
      "source": [
        "<a href=\"https://colab.research.google.com/github/GresaSm/ML-Project-Year-I/blob/main/data.ipynb\" target=\"_parent\"><img src=\"https://colab.research.google.com/assets/colab-badge.svg\" alt=\"Open In Colab\"/></a>"
      ]
    },
    {
      "cell_type": "code",
      "execution_count": 1,
      "metadata": {
        "id": "KYuCdEgMH4uv"
      },
      "outputs": [],
      "source": [
        "# Code to read csv file into Colaboratory:\n",
        "# !pip install -U -q PyDrive\n",
        "from pydrive.auth import GoogleAuth\n",
        "from pydrive.drive import GoogleDrive\n",
        "from google.colab import auth\n",
        "from oauth2client.client import GoogleCredentials\n",
        "\n",
        "# Authenticate and create the PyDrive client.\n",
        "auth.authenticate_user()\n",
        "gauth = GoogleAuth()\n",
        "gauth.credentials = GoogleCredentials.get_application_default()\n",
        "drive = GoogleDrive(gauth)"
      ]
    },
    {
      "cell_type": "code",
      "execution_count": 2,
      "metadata": {
        "id": "NX7VJAI1IdOb"
      },
      "outputs": [],
      "source": [
        "import pandas as pd"
      ]
    },
    {
      "cell_type": "code",
      "execution_count": 7,
      "metadata": {
        "id": "sF6ZvoyMIAx_"
      },
      "outputs": [],
      "source": [
        "# link for dataset\n",
        "link = 'https://drive.google.com/file/d/1dybZtXUKOAoCS_cPJFqUA5_rN_9N5CEB/view?usp=share_link' # The shareable link\n",
        "\n",
        "# getting the id part of the link\n",
        "id = link.split(\"/\")[-2]\n",
        " \n",
        "downloaded = drive.CreateFile({'id':id})\n",
        "downloaded.GetContentFile('dataset.csv') \n",
        " \n",
        "data = pd.read_csv('dataset.csv')\n",
        "\n",
        "# dropping unnecessary columns\n",
        "data.drop([\"Unnamed: 0\", \"fex_c_2011\", 'DIRECTORIO','SECUENCIA_P'], axis = 1, inplace = True)"
      ]
    },
    {
      "cell_type": "code",
      "execution_count": 4,
      "metadata": {
        "colab": {
          "base_uri": "https://localhost:8080/",
          "height": 424
        },
        "id": "MsGhIFPEIcYA",
        "outputId": "fa627a31-1e27-4888-b2a0-bb6f382cef0b"
      },
      "outputs": [
        {
          "output_type": "execute_result",
          "data": {
            "text/plain": [
              "        P388  P6440  P6790  P6870  P6880  P6915  P6990  P9450  P7020  P7040  \\\n",
              "0          5      1     10      2      9      2      2      2      1      2   \n",
              "1          5      1      3      5      7      1      2      2      2      2   \n",
              "2          5      1     12      4      7      3      2      2      2      2   \n",
              "3          5      1     12      2      6      2      2      2      1      2   \n",
              "4          5      1     11      9      7      1      1      1      1      2   \n",
              "...      ...    ...    ...    ...    ...    ...    ...    ...    ...    ...   \n",
              "155606    66      2     12      1      2      2      2      2      1      2   \n",
              "155607    68      1     12      2      2      2      2      2      1      2   \n",
              "155608    68      2     12      1      2      2      2      2      1      2   \n",
              "155609    68      1      8      1      7      2      2      2      1      2   \n",
              "155610    68      1      8      1      2      2      2      2      1      2   \n",
              "\n",
              "        ...  P7480S11  ORDEN  HOGAR  REGIS  P7495  P7505  MES  DPTO      base  \\\n",
              "0       ...         2      2      1     95      2      1    1     5      Area   \n",
              "1       ...         2      3      1     95      2      2    1     5      Area   \n",
              "2       ...         2      1      1     95      2      1    1     5      Area   \n",
              "3       ...         2      1      1     95      2      2    1     5      Area   \n",
              "4       ...         2      3      1     95      2      1    1     5      Area   \n",
              "...     ...       ...    ...    ...    ...    ...    ...  ...   ...       ...   \n",
              "155606  ...         2      2      1     95      2      2    4    66  Cabecera   \n",
              "155607  ...         2      1      1     95      2      2    4    68  Cabecera   \n",
              "155608  ...         2      2      1     95      2      2    4    68  Cabecera   \n",
              "155609  ...         2      3      1     95      2      2    4    68  Cabecera   \n",
              "155610  ...         2      4      1     95      2      2    4    68  Cabecera   \n",
              "\n",
              "        CLASE  \n",
              "0           1  \n",
              "1           1  \n",
              "2           1  \n",
              "3           1  \n",
              "4           1  \n",
              "...       ...  \n",
              "155606      1  \n",
              "155607      1  \n",
              "155608      1  \n",
              "155609      1  \n",
              "155610      1  \n",
              "\n",
              "[155611 rows x 58 columns]"
            ],
            "text/html": [
              "\n",
              "  <div id=\"df-8ab66ba5-debd-4fd2-bcef-e6337ed76742\">\n",
              "    <div class=\"colab-df-container\">\n",
              "      <div>\n",
              "<style scoped>\n",
              "    .dataframe tbody tr th:only-of-type {\n",
              "        vertical-align: middle;\n",
              "    }\n",
              "\n",
              "    .dataframe tbody tr th {\n",
              "        vertical-align: top;\n",
              "    }\n",
              "\n",
              "    .dataframe thead th {\n",
              "        text-align: right;\n",
              "    }\n",
              "</style>\n",
              "<table border=\"1\" class=\"dataframe\">\n",
              "  <thead>\n",
              "    <tr style=\"text-align: right;\">\n",
              "      <th></th>\n",
              "      <th>P388</th>\n",
              "      <th>P6440</th>\n",
              "      <th>P6790</th>\n",
              "      <th>P6870</th>\n",
              "      <th>P6880</th>\n",
              "      <th>P6915</th>\n",
              "      <th>P6990</th>\n",
              "      <th>P9450</th>\n",
              "      <th>P7020</th>\n",
              "      <th>P7040</th>\n",
              "      <th>...</th>\n",
              "      <th>P7480S11</th>\n",
              "      <th>ORDEN</th>\n",
              "      <th>HOGAR</th>\n",
              "      <th>REGIS</th>\n",
              "      <th>P7495</th>\n",
              "      <th>P7505</th>\n",
              "      <th>MES</th>\n",
              "      <th>DPTO</th>\n",
              "      <th>base</th>\n",
              "      <th>CLASE</th>\n",
              "    </tr>\n",
              "  </thead>\n",
              "  <tbody>\n",
              "    <tr>\n",
              "      <th>0</th>\n",
              "      <td>5</td>\n",
              "      <td>1</td>\n",
              "      <td>10</td>\n",
              "      <td>2</td>\n",
              "      <td>9</td>\n",
              "      <td>2</td>\n",
              "      <td>2</td>\n",
              "      <td>2</td>\n",
              "      <td>1</td>\n",
              "      <td>2</td>\n",
              "      <td>...</td>\n",
              "      <td>2</td>\n",
              "      <td>2</td>\n",
              "      <td>1</td>\n",
              "      <td>95</td>\n",
              "      <td>2</td>\n",
              "      <td>1</td>\n",
              "      <td>1</td>\n",
              "      <td>5</td>\n",
              "      <td>Area</td>\n",
              "      <td>1</td>\n",
              "    </tr>\n",
              "    <tr>\n",
              "      <th>1</th>\n",
              "      <td>5</td>\n",
              "      <td>1</td>\n",
              "      <td>3</td>\n",
              "      <td>5</td>\n",
              "      <td>7</td>\n",
              "      <td>1</td>\n",
              "      <td>2</td>\n",
              "      <td>2</td>\n",
              "      <td>2</td>\n",
              "      <td>2</td>\n",
              "      <td>...</td>\n",
              "      <td>2</td>\n",
              "      <td>3</td>\n",
              "      <td>1</td>\n",
              "      <td>95</td>\n",
              "      <td>2</td>\n",
              "      <td>2</td>\n",
              "      <td>1</td>\n",
              "      <td>5</td>\n",
              "      <td>Area</td>\n",
              "      <td>1</td>\n",
              "    </tr>\n",
              "    <tr>\n",
              "      <th>2</th>\n",
              "      <td>5</td>\n",
              "      <td>1</td>\n",
              "      <td>12</td>\n",
              "      <td>4</td>\n",
              "      <td>7</td>\n",
              "      <td>3</td>\n",
              "      <td>2</td>\n",
              "      <td>2</td>\n",
              "      <td>2</td>\n",
              "      <td>2</td>\n",
              "      <td>...</td>\n",
              "      <td>2</td>\n",
              "      <td>1</td>\n",
              "      <td>1</td>\n",
              "      <td>95</td>\n",
              "      <td>2</td>\n",
              "      <td>1</td>\n",
              "      <td>1</td>\n",
              "      <td>5</td>\n",
              "      <td>Area</td>\n",
              "      <td>1</td>\n",
              "    </tr>\n",
              "    <tr>\n",
              "      <th>3</th>\n",
              "      <td>5</td>\n",
              "      <td>1</td>\n",
              "      <td>12</td>\n",
              "      <td>2</td>\n",
              "      <td>6</td>\n",
              "      <td>2</td>\n",
              "      <td>2</td>\n",
              "      <td>2</td>\n",
              "      <td>1</td>\n",
              "      <td>2</td>\n",
              "      <td>...</td>\n",
              "      <td>2</td>\n",
              "      <td>1</td>\n",
              "      <td>1</td>\n",
              "      <td>95</td>\n",
              "      <td>2</td>\n",
              "      <td>2</td>\n",
              "      <td>1</td>\n",
              "      <td>5</td>\n",
              "      <td>Area</td>\n",
              "      <td>1</td>\n",
              "    </tr>\n",
              "    <tr>\n",
              "      <th>4</th>\n",
              "      <td>5</td>\n",
              "      <td>1</td>\n",
              "      <td>11</td>\n",
              "      <td>9</td>\n",
              "      <td>7</td>\n",
              "      <td>1</td>\n",
              "      <td>1</td>\n",
              "      <td>1</td>\n",
              "      <td>1</td>\n",
              "      <td>2</td>\n",
              "      <td>...</td>\n",
              "      <td>2</td>\n",
              "      <td>3</td>\n",
              "      <td>1</td>\n",
              "      <td>95</td>\n",
              "      <td>2</td>\n",
              "      <td>1</td>\n",
              "      <td>1</td>\n",
              "      <td>5</td>\n",
              "      <td>Area</td>\n",
              "      <td>1</td>\n",
              "    </tr>\n",
              "    <tr>\n",
              "      <th>...</th>\n",
              "      <td>...</td>\n",
              "      <td>...</td>\n",
              "      <td>...</td>\n",
              "      <td>...</td>\n",
              "      <td>...</td>\n",
              "      <td>...</td>\n",
              "      <td>...</td>\n",
              "      <td>...</td>\n",
              "      <td>...</td>\n",
              "      <td>...</td>\n",
              "      <td>...</td>\n",
              "      <td>...</td>\n",
              "      <td>...</td>\n",
              "      <td>...</td>\n",
              "      <td>...</td>\n",
              "      <td>...</td>\n",
              "      <td>...</td>\n",
              "      <td>...</td>\n",
              "      <td>...</td>\n",
              "      <td>...</td>\n",
              "      <td>...</td>\n",
              "    </tr>\n",
              "    <tr>\n",
              "      <th>155606</th>\n",
              "      <td>66</td>\n",
              "      <td>2</td>\n",
              "      <td>12</td>\n",
              "      <td>1</td>\n",
              "      <td>2</td>\n",
              "      <td>2</td>\n",
              "      <td>2</td>\n",
              "      <td>2</td>\n",
              "      <td>1</td>\n",
              "      <td>2</td>\n",
              "      <td>...</td>\n",
              "      <td>2</td>\n",
              "      <td>2</td>\n",
              "      <td>1</td>\n",
              "      <td>95</td>\n",
              "      <td>2</td>\n",
              "      <td>2</td>\n",
              "      <td>4</td>\n",
              "      <td>66</td>\n",
              "      <td>Cabecera</td>\n",
              "      <td>1</td>\n",
              "    </tr>\n",
              "    <tr>\n",
              "      <th>155607</th>\n",
              "      <td>68</td>\n",
              "      <td>1</td>\n",
              "      <td>12</td>\n",
              "      <td>2</td>\n",
              "      <td>2</td>\n",
              "      <td>2</td>\n",
              "      <td>2</td>\n",
              "      <td>2</td>\n",
              "      <td>1</td>\n",
              "      <td>2</td>\n",
              "      <td>...</td>\n",
              "      <td>2</td>\n",
              "      <td>1</td>\n",
              "      <td>1</td>\n",
              "      <td>95</td>\n",
              "      <td>2</td>\n",
              "      <td>2</td>\n",
              "      <td>4</td>\n",
              "      <td>68</td>\n",
              "      <td>Cabecera</td>\n",
              "      <td>1</td>\n",
              "    </tr>\n",
              "    <tr>\n",
              "      <th>155608</th>\n",
              "      <td>68</td>\n",
              "      <td>2</td>\n",
              "      <td>12</td>\n",
              "      <td>1</td>\n",
              "      <td>2</td>\n",
              "      <td>2</td>\n",
              "      <td>2</td>\n",
              "      <td>2</td>\n",
              "      <td>1</td>\n",
              "      <td>2</td>\n",
              "      <td>...</td>\n",
              "      <td>2</td>\n",
              "      <td>2</td>\n",
              "      <td>1</td>\n",
              "      <td>95</td>\n",
              "      <td>2</td>\n",
              "      <td>2</td>\n",
              "      <td>4</td>\n",
              "      <td>68</td>\n",
              "      <td>Cabecera</td>\n",
              "      <td>1</td>\n",
              "    </tr>\n",
              "    <tr>\n",
              "      <th>155609</th>\n",
              "      <td>68</td>\n",
              "      <td>1</td>\n",
              "      <td>8</td>\n",
              "      <td>1</td>\n",
              "      <td>7</td>\n",
              "      <td>2</td>\n",
              "      <td>2</td>\n",
              "      <td>2</td>\n",
              "      <td>1</td>\n",
              "      <td>2</td>\n",
              "      <td>...</td>\n",
              "      <td>2</td>\n",
              "      <td>3</td>\n",
              "      <td>1</td>\n",
              "      <td>95</td>\n",
              "      <td>2</td>\n",
              "      <td>2</td>\n",
              "      <td>4</td>\n",
              "      <td>68</td>\n",
              "      <td>Cabecera</td>\n",
              "      <td>1</td>\n",
              "    </tr>\n",
              "    <tr>\n",
              "      <th>155610</th>\n",
              "      <td>68</td>\n",
              "      <td>1</td>\n",
              "      <td>8</td>\n",
              "      <td>1</td>\n",
              "      <td>2</td>\n",
              "      <td>2</td>\n",
              "      <td>2</td>\n",
              "      <td>2</td>\n",
              "      <td>1</td>\n",
              "      <td>2</td>\n",
              "      <td>...</td>\n",
              "      <td>2</td>\n",
              "      <td>4</td>\n",
              "      <td>1</td>\n",
              "      <td>95</td>\n",
              "      <td>2</td>\n",
              "      <td>2</td>\n",
              "      <td>4</td>\n",
              "      <td>68</td>\n",
              "      <td>Cabecera</td>\n",
              "      <td>1</td>\n",
              "    </tr>\n",
              "  </tbody>\n",
              "</table>\n",
              "<p>155611 rows × 58 columns</p>\n",
              "</div>\n",
              "      <button class=\"colab-df-convert\" onclick=\"convertToInteractive('df-8ab66ba5-debd-4fd2-bcef-e6337ed76742')\"\n",
              "              title=\"Convert this dataframe to an interactive table.\"\n",
              "              style=\"display:none;\">\n",
              "        \n",
              "  <svg xmlns=\"http://www.w3.org/2000/svg\" height=\"24px\"viewBox=\"0 0 24 24\"\n",
              "       width=\"24px\">\n",
              "    <path d=\"M0 0h24v24H0V0z\" fill=\"none\"/>\n",
              "    <path d=\"M18.56 5.44l.94 2.06.94-2.06 2.06-.94-2.06-.94-.94-2.06-.94 2.06-2.06.94zm-11 1L8.5 8.5l.94-2.06 2.06-.94-2.06-.94L8.5 2.5l-.94 2.06-2.06.94zm10 10l.94 2.06.94-2.06 2.06-.94-2.06-.94-.94-2.06-.94 2.06-2.06.94z\"/><path d=\"M17.41 7.96l-1.37-1.37c-.4-.4-.92-.59-1.43-.59-.52 0-1.04.2-1.43.59L10.3 9.45l-7.72 7.72c-.78.78-.78 2.05 0 2.83L4 21.41c.39.39.9.59 1.41.59.51 0 1.02-.2 1.41-.59l7.78-7.78 2.81-2.81c.8-.78.8-2.07 0-2.86zM5.41 20L4 18.59l7.72-7.72 1.47 1.35L5.41 20z\"/>\n",
              "  </svg>\n",
              "      </button>\n",
              "      \n",
              "  <style>\n",
              "    .colab-df-container {\n",
              "      display:flex;\n",
              "      flex-wrap:wrap;\n",
              "      gap: 12px;\n",
              "    }\n",
              "\n",
              "    .colab-df-convert {\n",
              "      background-color: #E8F0FE;\n",
              "      border: none;\n",
              "      border-radius: 50%;\n",
              "      cursor: pointer;\n",
              "      display: none;\n",
              "      fill: #1967D2;\n",
              "      height: 32px;\n",
              "      padding: 0 0 0 0;\n",
              "      width: 32px;\n",
              "    }\n",
              "\n",
              "    .colab-df-convert:hover {\n",
              "      background-color: #E2EBFA;\n",
              "      box-shadow: 0px 1px 2px rgba(60, 64, 67, 0.3), 0px 1px 3px 1px rgba(60, 64, 67, 0.15);\n",
              "      fill: #174EA6;\n",
              "    }\n",
              "\n",
              "    [theme=dark] .colab-df-convert {\n",
              "      background-color: #3B4455;\n",
              "      fill: #D2E3FC;\n",
              "    }\n",
              "\n",
              "    [theme=dark] .colab-df-convert:hover {\n",
              "      background-color: #434B5C;\n",
              "      box-shadow: 0px 1px 3px 1px rgba(0, 0, 0, 0.15);\n",
              "      filter: drop-shadow(0px 1px 2px rgba(0, 0, 0, 0.3));\n",
              "      fill: #FFFFFF;\n",
              "    }\n",
              "  </style>\n",
              "\n",
              "      <script>\n",
              "        const buttonEl =\n",
              "          document.querySelector('#df-8ab66ba5-debd-4fd2-bcef-e6337ed76742 button.colab-df-convert');\n",
              "        buttonEl.style.display =\n",
              "          google.colab.kernel.accessAllowed ? 'block' : 'none';\n",
              "\n",
              "        async function convertToInteractive(key) {\n",
              "          const element = document.querySelector('#df-8ab66ba5-debd-4fd2-bcef-e6337ed76742');\n",
              "          const dataTable =\n",
              "            await google.colab.kernel.invokeFunction('convertToInteractive',\n",
              "                                                     [key], {});\n",
              "          if (!dataTable) return;\n",
              "\n",
              "          const docLinkHtml = 'Like what you see? Visit the ' +\n",
              "            '<a target=\"_blank\" href=https://colab.research.google.com/notebooks/data_table.ipynb>data table notebook</a>'\n",
              "            + ' to learn more about interactive tables.';\n",
              "          element.innerHTML = '';\n",
              "          dataTable['output_type'] = 'display_data';\n",
              "          await google.colab.output.renderOutput(dataTable, element);\n",
              "          const docLink = document.createElement('div');\n",
              "          docLink.innerHTML = docLinkHtml;\n",
              "          element.appendChild(docLink);\n",
              "        }\n",
              "      </script>\n",
              "    </div>\n",
              "  </div>\n",
              "  "
            ]
          },
          "metadata": {},
          "execution_count": 4
        }
      ],
      "source": [
        "data"
      ]
    },
    {
      "cell_type": "code",
      "execution_count": 8,
      "metadata": {
        "id": "Ysuae9rBXUC9"
      },
      "outputs": [],
      "source": [
        "# Getting rid of variables that are too closely related to our dependant variable\n",
        "data.drop([\"P9450\", \"P7170S5\", \"P7180\", \"OCI\", \"P6430\", \"RAMA4D\", \"code\", \"P6016\", \"P6081\", \"P6083\", \"P6230\", \"ORDEN\", \"HOGAR\", \"REGIS\"], axis = 1, inplace = True)"
      ]
    },
    {
      "cell_type": "code",
      "execution_count": 9,
      "metadata": {
        "id": "wQdDA4TgdWcT"
      },
      "outputs": [],
      "source": [
        "# Transforming all variables to string\n",
        "datos = data.astype(str)"
      ]
    },
    {
      "cell_type": "code",
      "execution_count": 11,
      "metadata": {
        "id": "uY80CjB3bwuV"
      },
      "outputs": [],
      "source": [
        "# Defining the type we want to change\n",
        "convert_dict = {\"P6790\": int,\n",
        "                \"P7480S1\": int} \n",
        "\n",
        "# Change variable type                \n",
        "datos = datos.astype(convert_dict)"
      ]
    },
    {
      "cell_type": "code",
      "execution_count": 12,
      "metadata": {
        "colab": {
          "base_uri": "https://localhost:8080/"
        },
        "id": "uoVIEPKUcZfC",
        "outputId": "48652ef9-7c7c-4f0a-81b2-9e9b912c5486"
      },
      "outputs": [
        {
          "output_type": "execute_result",
          "data": {
            "text/plain": [
              "P388        object\n",
              "P6440       object\n",
              "P6790        int64\n",
              "P6870       object\n",
              "P6880       object\n",
              "P6915       object\n",
              "P6990       object\n",
              "P7020       object\n",
              "P7040       object\n",
              "P1881       object\n",
              "P7090       object\n",
              "P7130       object\n",
              "P7170S1     object\n",
              "P7170S6     object\n",
              "P514        object\n",
              "P515        object\n",
              "P7240       object\n",
              "RAMA2D      object\n",
              "P6020       object\n",
              "P6050       object\n",
              "P6070       object\n",
              "P6090       object\n",
              "P6125       object\n",
              "P6160       object\n",
              "P6170       object\n",
              "P6210       object\n",
              "P6210S1     object\n",
              "P6240       object\n",
              "P7480S1      int64\n",
              "P7480S3     object\n",
              "P7480S4     object\n",
              "P7480S5     object\n",
              "P7480S6     object\n",
              "P7480S7     object\n",
              "P7480S8     object\n",
              "P7480S9     object\n",
              "P7480S10    object\n",
              "P7480S11    object\n",
              "P7495       object\n",
              "P7505       object\n",
              "MES         object\n",
              "DPTO        object\n",
              "base        object\n",
              "CLASE       object\n",
              "dtype: object"
            ]
          },
          "metadata": {},
          "execution_count": 12
        }
      ],
      "source": [
        "# types of variables\n",
        "datos.dtypes"
      ]
    },
    {
      "cell_type": "code",
      "execution_count": 13,
      "metadata": {
        "id": "kTgHnYA1lKAn"
      },
      "outputs": [],
      "source": [
        "# settig up the y variable\n",
        "datos['P6440'] = datos['P6440'].replace(\"2\",\"0\",regex = True)\n",
        "\n",
        "# switching the values of base, from strings to numeric categories\n",
        "datos['base'] = datos['base'].replace(\"Area\",1,regex = True)\n",
        "datos['base'] = datos['base'].replace(\"Cabecera\",2,regex = True)\n",
        "datos['base'] = datos['base'].replace(\"Resto\",3,regex = True)"
      ]
    },
    {
      "cell_type": "markdown",
      "metadata": {
        "id": "RaqS5esC-gy0"
      },
      "source": [
        "# Quick descriptions"
      ]
    },
    {
      "cell_type": "code",
      "execution_count": 14,
      "metadata": {
        "colab": {
          "base_uri": "https://localhost:8080/",
          "height": 295
        },
        "id": "bu56zQBz-j2t",
        "outputId": "5783fbbc-ec23-43ae-95e9-ddd7618f3e96"
      },
      "outputs": [
        {
          "output_type": "display_data",
          "data": {
            "text/plain": [
              "<Figure size 432x288 with 1 Axes>"
            ],
            "image/png": "[encoded data removed]"
          },
          "metadata": {
            "needs_background": "light"
          }
        }
      ],
      "source": [
        "### Class imbalance\n",
        "import matplotlib.pyplot as plt\n",
        "\n",
        "datos['P6440'].value_counts(normalize=True).plot.barh()\n",
        "plt.xlabel(\"Class frequency\")\n",
        "_ = plt.title(\"Class frequency in the training set\")"
      ]
    },
    {
      "cell_type": "code",
      "execution_count": 15,
      "metadata": {
        "colab": {
          "base_uri": "https://localhost:8080/",
          "height": 269
        },
        "id": "7oJIdJtD-u7T",
        "outputId": "5fb06990-4ed4-451e-d65b-7626676c0f3c"
      },
      "outputs": [
        {
          "output_type": "display_data",
          "data": {
            "text/plain": [
              "<Figure size 432x288 with 2 Axes>"
            ],
            "image/png": "[encoded data removed]"
          },
          "metadata": {
            "needs_background": "light"
          }
        }
      ],
      "source": [
        "### Correlation matrix\n",
        "\n",
        "import seaborn as sn\n",
        "\n",
        "corr_matrix = datos.corr()\n",
        "sn.heatmap(corr_matrix, annot=True)\n",
        "plt.show()"
      ]
    },
    {
      "cell_type": "code",
      "execution_count": 16,
      "metadata": {
        "id": "hkqF8Kr4bOXQ"
      },
      "outputs": [],
      "source": [
        "# Defining dependant variable\n",
        "y = datos['P6440']\n",
        "\n",
        "# setting the rest of the database\n",
        "X = datos.drop(['P6440'],axis=1)"
      ]
    },
    {
      "cell_type": "markdown",
      "metadata": {
        "id": "G0pvrcfY9mLV"
      },
      "source": [
        "# Pipelines\n"
      ]
    },
    {
      "cell_type": "code",
      "source": [
        "categorical = ['P388', 'P6870', 'P6880', 'P6915', 'P6990', 'P7020','P7040', 'P1881', 'P7090', 'P7130', 'P7170S1', 'P7170S6', 'P514','P515', 'P7240', 'RAMA2D', 'P6020', 'P6050', 'P6070', 'P6090', 'P6125', 'P6160', 'P6170', 'P6210', 'P6210S1', 'P6240', 'P7480S3', 'P7480S4', 'P7480S5', 'P7480S6', 'P7480S7', 'P7480S8','P7480S9', 'P7480S10', 'P7480S11', 'P7495', 'P7505', 'MES', 'DPTO','base', 'CLASE']\n",
        "\n",
        "numerical = [\"P6790\",\"P7480S1\"]"
      ],
      "metadata": {
        "id": "gqbFX0ShU5Km"
      },
      "execution_count": 17,
      "outputs": []
    },
    {
      "cell_type": "code",
      "source": [
        "# All packages \n",
        "\n",
        "# Line to split the code\n",
        "from sklearn.model_selection import train_test_split\n",
        "\n",
        "# Lines for OneHotEncoder\n",
        "from sklearn.preprocessing import OneHotEncoder, StandardScaler\n",
        "from sklearn.pipeline import Pipeline\n",
        "from sklearn.compose import ColumnTransformer\n",
        "from sklearn.model_selection import GridSearchCV\n",
        "\n",
        "# Lines for Standardscaler\n",
        "from sklearn.preprocessing import StandardScaler\n",
        "\n",
        "# Line for Logistic Regression\n",
        "from sklearn.linear_model import LogisticRegression\n",
        "\n",
        "# Line for accuracy score\n",
        "from sklearn.metrics import accuracy_score\n",
        "\n",
        "# Line for cross fold validation\n",
        "from sklearn.model_selection import cross_validate\n",
        "\n",
        "#Line for confusion matrix\n",
        "from sklearn.metrics import ConfusionMatrixDisplay\n",
        "\n",
        "# Line for Decision Tree \n",
        "from sklearn.tree import DecisionTreeClassifier\n",
        "\n",
        "# Line for XGBoost\n",
        "import xgboost as xgb"
      ],
      "metadata": {
        "id": "lx4dNVfIQHRz"
      },
      "execution_count": 18,
      "outputs": []
    },
    {
      "cell_type": "markdown",
      "metadata": {
        "id": "jZ4atMXW9rAt"
      },
      "source": [
        "### Logistic Regression"
      ]
    },
    {
      "cell_type": "code",
      "execution_count": 19,
      "metadata": {
        "id": "uLh8_5e0a4or"
      },
      "outputs": [],
      "source": [
        "# Setting up the training and testing set\n",
        "X_train, X_test, y_train, y_test = train_test_split(X,y,test_size = 0.30, random_state=537)"
      ]
    },
    {
      "cell_type": "code",
      "source": [
        "# We drop our first dummy to make it easier to interpret\n",
        "ohe = OneHotEncoder(drop = 'first', handle_unknown='ignore')\n",
        "se = StandardScaler()\n",
        "\n",
        "# Preprocess \n",
        "preprocessor = ColumnTransformer(\n",
        "    transformers = [\n",
        "        (\"num\",StandardScaler(),numerical),\n",
        "        (\"cat\",ohe,categorical),\n",
        "    ]\n",
        ")"
      ],
      "metadata": {
        "id": "R8NogyCXRDgj"
      },
      "execution_count": 20,
      "outputs": []
    },
    {
      "cell_type": "code",
      "source": [
        "# Create a pipeline\n",
        "pipe_log = Pipeline([\n",
        "    ('preproc', preprocessor),\n",
        "    ('model', LogisticRegression(max_iter= 1000,\n",
        "                                 solver = 'lbfgs'))\n",
        "    ])\n",
        "\n",
        "# # Fit\n",
        "y_pred_log = pipe_log.fit(X_train, y_train).predict(X_train)"
      ],
      "metadata": {
        "id": "nVBL5X3-h3Qq"
      },
      "execution_count": 23,
      "outputs": []
    },
    {
      "cell_type": "code",
      "source": [
        "# calculating the cross validation matrix\n",
        "cv_lm = cross_validate(pipe_log, X_train, y_train, return_estimator = True)\n",
        "\n",
        "# Displaying it\n",
        "pd.DataFrame(cv_lm)"
      ],
      "metadata": {
        "colab": {
          "base_uri": "https://localhost:8080/",
          "height": 296
        },
        "id": "BEihKSd4pRot",
        "outputId": "ed241c39-72d3-4e3e-8971-d33774304b55"
      },
      "execution_count": 29,
      "outputs": [
        {
          "output_type": "stream",
          "name": "stderr",
          "text": [
            "/usr/local/lib/python3.7/dist-packages/sklearn/preprocessing/_encoders.py:174: UserWarning: Found unknown categories in columns [0, 15] during transform. These unknown categories will be encoded as all zeros\n",
            "  UserWarning,\n",
            "/usr/local/lib/python3.7/dist-packages/sklearn/preprocessing/_encoders.py:174: UserWarning: Found unknown categories in columns [23] during transform. These unknown categories will be encoded as all zeros\n",
            "  UserWarning,\n"
          ]
        },
        {
          "output_type": "execute_result",
          "data": {
            "text/plain": [
              "    fit_time  score_time                                          estimator  \\\n",
              "0  12.573990    0.826613  (ColumnTransformer(transformers=[('num', Stand...   \n",
              "1  13.891560    0.617313  (ColumnTransformer(transformers=[('num', Stand...   \n",
              "2   9.106645    0.631712  (ColumnTransformer(transformers=[('num', Stand...   \n",
              "3   9.296423    0.630637  (ColumnTransformer(transformers=[('num', Stand...   \n",
              "4   9.482838    0.630772  (ColumnTransformer(transformers=[('num', Stand...   \n",
              "\n",
              "   test_score  \n",
              "0    0.940420  \n",
              "1    0.938860  \n",
              "2    0.940464  \n",
              "3    0.943356  \n",
              "4    0.941473  "
            ],
            "text/html": [
              "\n",
              "  <div id=\"df-96b0cb4d-5cd6-4c70-8ffc-e088563f5834\">\n",
              "    <div class=\"colab-df-container\">\n",
              "      <div>\n",
              "<style scoped>\n",
              "    .dataframe tbody tr th:only-of-type {\n",
              "        vertical-align: middle;\n",
              "    }\n",
              "\n",
              "    .dataframe tbody tr th {\n",
              "        vertical-align: top;\n",
              "    }\n",
              "\n",
              "    .dataframe thead th {\n",
              "        text-align: right;\n",
              "    }\n",
              "</style>\n",
              "<table border=\"1\" class=\"dataframe\">\n",
              "  <thead>\n",
              "    <tr style=\"text-align: right;\">\n",
              "      <th></th>\n",
              "      <th>fit_time</th>\n",
              "      <th>score_time</th>\n",
              "      <th>estimator</th>\n",
              "      <th>test_score</th>\n",
              "    </tr>\n",
              "  </thead>\n",
              "  <tbody>\n",
              "    <tr>\n",
              "      <th>0</th>\n",
              "      <td>12.573990</td>\n",
              "      <td>0.826613</td>\n",
              "      <td>(ColumnTransformer(transformers=[('num', Stand...</td>\n",
              "      <td>0.940420</td>\n",
              "    </tr>\n",
              "    <tr>\n",
              "      <th>1</th>\n",
              "      <td>13.891560</td>\n",
              "      <td>0.617313</td>\n",
              "      <td>(ColumnTransformer(transformers=[('num', Stand...</td>\n",
              "      <td>0.938860</td>\n",
              "    </tr>\n",
              "    <tr>\n",
              "      <th>2</th>\n",
              "      <td>9.106645</td>\n",
              "      <td>0.631712</td>\n",
              "      <td>(ColumnTransformer(transformers=[('num', Stand...</td>\n",
              "      <td>0.940464</td>\n",
              "    </tr>\n",
              "    <tr>\n",
              "      <th>3</th>\n",
              "      <td>9.296423</td>\n",
              "      <td>0.630637</td>\n",
              "      <td>(ColumnTransformer(transformers=[('num', Stand...</td>\n",
              "      <td>0.943356</td>\n",
              "    </tr>\n",
              "    <tr>\n",
              "      <th>4</th>\n",
              "      <td>9.482838</td>\n",
              "      <td>0.630772</td>\n",
              "      <td>(ColumnTransformer(transformers=[('num', Stand...</td>\n",
              "      <td>0.941473</td>\n",
              "    </tr>\n",
              "  </tbody>\n",
              "</table>\n",
              "</div>\n",
              "      <button class=\"colab-df-convert\" onclick=\"convertToInteractive('df-96b0cb4d-5cd6-4c70-8ffc-e088563f5834')\"\n",
              "              title=\"Convert this dataframe to an interactive table.\"\n",
              "              style=\"display:none;\">\n",
              "        \n",
              "  <svg xmlns=\"http://www.w3.org/2000/svg\" height=\"24px\"viewBox=\"0 0 24 24\"\n",
              "       width=\"24px\">\n",
              "    <path d=\"M0 0h24v24H0V0z\" fill=\"none\"/>\n",
              "    <path d=\"M18.56 5.44l.94 2.06.94-2.06 2.06-.94-2.06-.94-.94-2.06-.94 2.06-2.06.94zm-11 1L8.5 8.5l.94-2.06 2.06-.94-2.06-.94L8.5 2.5l-.94 2.06-2.06.94zm10 10l.94 2.06.94-2.06 2.06-.94-2.06-.94-.94-2.06-.94 2.06-2.06.94z\"/><path d=\"M17.41 7.96l-1.37-1.37c-.4-.4-.92-.59-1.43-.59-.52 0-1.04.2-1.43.59L10.3 9.45l-7.72 7.72c-.78.78-.78 2.05 0 2.83L4 21.41c.39.39.9.59 1.41.59.51 0 1.02-.2 1.41-.59l7.78-7.78 2.81-2.81c.8-.78.8-2.07 0-2.86zM5.41 20L4 18.59l7.72-7.72 1.47 1.35L5.41 20z\"/>\n",
              "  </svg>\n",
              "      </button>\n",
              "      \n",
              "  <style>\n",
              "    .colab-df-container {\n",
              "      display:flex;\n",
              "      flex-wrap:wrap;\n",
              "      gap: 12px;\n",
              "    }\n",
              "\n",
              "    .colab-df-convert {\n",
              "      background-color: #E8F0FE;\n",
              "      border: none;\n",
              "      border-radius: 50%;\n",
              "      cursor: pointer;\n",
              "      display: none;\n",
              "      fill: #1967D2;\n",
              "      height: 32px;\n",
              "      padding: 0 0 0 0;\n",
              "      width: 32px;\n",
              "    }\n",
              "\n",
              "    .colab-df-convert:hover {\n",
              "      background-color: #E2EBFA;\n",
              "      box-shadow: 0px 1px 2px rgba(60, 64, 67, 0.3), 0px 1px 3px 1px rgba(60, 64, 67, 0.15);\n",
              "      fill: #174EA6;\n",
              "    }\n",
              "\n",
              "    [theme=dark] .colab-df-convert {\n",
              "      background-color: #3B4455;\n",
              "      fill: #D2E3FC;\n",
              "    }\n",
              "\n",
              "    [theme=dark] .colab-df-convert:hover {\n",
              "      background-color: #434B5C;\n",
              "      box-shadow: 0px 1px 3px 1px rgba(0, 0, 0, 0.15);\n",
              "      filter: drop-shadow(0px 1px 2px rgba(0, 0, 0, 0.3));\n",
              "      fill: #FFFFFF;\n",
              "    }\n",
              "  </style>\n",
              "\n",
              "      <script>\n",
              "        const buttonEl =\n",
              "          document.querySelector('#df-96b0cb4d-5cd6-4c70-8ffc-e088563f5834 button.colab-df-convert');\n",
              "        buttonEl.style.display =\n",
              "          google.colab.kernel.accessAllowed ? 'block' : 'none';\n",
              "\n",
              "        async function convertToInteractive(key) {\n",
              "          const element = document.querySelector('#df-96b0cb4d-5cd6-4c70-8ffc-e088563f5834');\n",
              "          const dataTable =\n",
              "            await google.colab.kernel.invokeFunction('convertToInteractive',\n",
              "                                                     [key], {});\n",
              "          if (!dataTable) return;\n",
              "\n",
              "          const docLinkHtml = 'Like what you see? Visit the ' +\n",
              "            '<a target=\"_blank\" href=https://colab.research.google.com/notebooks/data_table.ipynb>data table notebook</a>'\n",
              "            + ' to learn more about interactive tables.';\n",
              "          element.innerHTML = '';\n",
              "          dataTable['output_type'] = 'display_data';\n",
              "          await google.colab.output.renderOutput(dataTable, element);\n",
              "          const docLink = document.createElement('div');\n",
              "          docLink.innerHTML = docLinkHtml;\n",
              "          element.appendChild(docLink);\n",
              "        }\n",
              "      </script>\n",
              "    </div>\n",
              "  </div>\n",
              "  "
            ]
          },
          "metadata": {},
          "execution_count": 29
        }
      ]
    },
    {
      "cell_type": "markdown",
      "metadata": {
        "id": "OujRpqmPA2x7"
      },
      "source": [
        "### Decision Trees"
      ]
    },
    {
      "cell_type": "code",
      "source": [
        "# Setting up the training and testing set\n",
        "X_train, X_test, y_train, y_test = train_test_split(X,y,test_size = 0.30, random_state=573)"
      ],
      "metadata": {
        "id": "0IY1ECeK5CrQ"
      },
      "execution_count": 30,
      "outputs": []
    },
    {
      "cell_type": "code",
      "source": [
        "# We drop our first dummy to make it easier to interpret\n",
        "ohe = OneHotEncoder(drop = 'first', handle_unknown='ignore')\n",
        "se = StandardScaler()\n",
        "\n",
        "# Preprocess \n",
        "preprocessor = ColumnTransformer(\n",
        "    transformers = [\n",
        "        (\"num\",StandardScaler(),numerical),\n",
        "        (\"cat\",ohe,categorical),\n",
        "    ]\n",
        ")"
      ],
      "metadata": {
        "id": "DenDPaSt4sBt"
      },
      "execution_count": 31,
      "outputs": []
    },
    {
      "cell_type": "code",
      "source": [
        "regressor = DecisionTreeClassifier()\n",
        "\n",
        "# Create a pipeline\n",
        "pipe_tree = Pipeline([\n",
        "    ('preproc', preprocessor),\n",
        "    ('model', DecisionTreeClassifier())\n",
        "    ])\n",
        "\n",
        "# # Fit\n",
        "y_pred_tree = pipe_tree.fit(X_train, y_train).predict(X_train)"
      ],
      "metadata": {
        "id": "G9PgpGosGOET"
      },
      "execution_count": 32,
      "outputs": []
    },
    {
      "cell_type": "code",
      "source": [
        "y_pred = cross_validate(pipe_tree, X_train, y_train, return_estimator = True)\n",
        "\n",
        "# Displaying results\n",
        "pd.DataFrame(y_pred)"
      ],
      "metadata": {
        "colab": {
          "base_uri": "https://localhost:8080/",
          "height": 296
        },
        "id": "ILIGxT8P7Qb3",
        "outputId": "f1f52935-77d8-42fb-9c03-449e65d3e328"
      },
      "execution_count": 33,
      "outputs": [
        {
          "output_type": "stream",
          "name": "stderr",
          "text": [
            "/usr/local/lib/python3.7/dist-packages/sklearn/preprocessing/_encoders.py:174: UserWarning: Found unknown categories in columns [0, 15] during transform. These unknown categories will be encoded as all zeros\n",
            "  UserWarning,\n",
            "/usr/local/lib/python3.7/dist-packages/sklearn/preprocessing/_encoders.py:174: UserWarning: Found unknown categories in columns [23] during transform. These unknown categories will be encoded as all zeros\n",
            "  UserWarning,\n"
          ]
        },
        {
          "output_type": "execute_result",
          "data": {
            "text/plain": [
              "    fit_time  score_time                                          estimator  \\\n",
              "0  11.667391    0.636947  (ColumnTransformer(transformers=[('num', Stand...   \n",
              "1  11.541266    0.643015  (ColumnTransformer(transformers=[('num', Stand...   \n",
              "2  11.621417    0.634766  (ColumnTransformer(transformers=[('num', Stand...   \n",
              "3  11.506287    0.622988  (ColumnTransformer(transformers=[('num', Stand...   \n",
              "4  11.535858    0.597478  (ColumnTransformer(transformers=[('num', Stand...   \n",
              "\n",
              "   test_score  \n",
              "0    0.963830  \n",
              "1    0.965712  \n",
              "2    0.965527  \n",
              "3    0.964609  \n",
              "4    0.964058  "
            ],
            "text/html": [
              "\n",
              "  <div id=\"df-176e0f4f-6820-4deb-932d-863b38dec785\">\n",
              "    <div class=\"colab-df-container\">\n",
              "      <div>\n",
              "<style scoped>\n",
              "    .dataframe tbody tr th:only-of-type {\n",
              "        vertical-align: middle;\n",
              "    }\n",
              "\n",
              "    .dataframe tbody tr th {\n",
              "        vertical-align: top;\n",
              "    }\n",
              "\n",
              "    .dataframe thead th {\n",
              "        text-align: right;\n",
              "    }\n",
              "</style>\n",
              "<table border=\"1\" class=\"dataframe\">\n",
              "  <thead>\n",
              "    <tr style=\"text-align: right;\">\n",
              "      <th></th>\n",
              "      <th>fit_time</th>\n",
              "      <th>score_time</th>\n",
              "      <th>estimator</th>\n",
              "      <th>test_score</th>\n",
              "    </tr>\n",
              "  </thead>\n",
              "  <tbody>\n",
              "    <tr>\n",
              "      <th>0</th>\n",
              "      <td>11.667391</td>\n",
              "      <td>0.636947</td>\n",
              "      <td>(ColumnTransformer(transformers=[('num', Stand...</td>\n",
              "      <td>0.963830</td>\n",
              "    </tr>\n",
              "    <tr>\n",
              "      <th>1</th>\n",
              "      <td>11.541266</td>\n",
              "      <td>0.643015</td>\n",
              "      <td>(ColumnTransformer(transformers=[('num', Stand...</td>\n",
              "      <td>0.965712</td>\n",
              "    </tr>\n",
              "    <tr>\n",
              "      <th>2</th>\n",
              "      <td>11.621417</td>\n",
              "      <td>0.634766</td>\n",
              "      <td>(ColumnTransformer(transformers=[('num', Stand...</td>\n",
              "      <td>0.965527</td>\n",
              "    </tr>\n",
              "    <tr>\n",
              "      <th>3</th>\n",
              "      <td>11.506287</td>\n",
              "      <td>0.622988</td>\n",
              "      <td>(ColumnTransformer(transformers=[('num', Stand...</td>\n",
              "      <td>0.964609</td>\n",
              "    </tr>\n",
              "    <tr>\n",
              "      <th>4</th>\n",
              "      <td>11.535858</td>\n",
              "      <td>0.597478</td>\n",
              "      <td>(ColumnTransformer(transformers=[('num', Stand...</td>\n",
              "      <td>0.964058</td>\n",
              "    </tr>\n",
              "  </tbody>\n",
              "</table>\n",
              "</div>\n",
              "      <button class=\"colab-df-convert\" onclick=\"convertToInteractive('df-176e0f4f-6820-4deb-932d-863b38dec785')\"\n",
              "              title=\"Convert this dataframe to an interactive table.\"\n",
              "              style=\"display:none;\">\n",
              "        \n",
              "  <svg xmlns=\"http://www.w3.org/2000/svg\" height=\"24px\"viewBox=\"0 0 24 24\"\n",
              "       width=\"24px\">\n",
              "    <path d=\"M0 0h24v24H0V0z\" fill=\"none\"/>\n",
              "    <path d=\"M18.56 5.44l.94 2.06.94-2.06 2.06-.94-2.06-.94-.94-2.06-.94 2.06-2.06.94zm-11 1L8.5 8.5l.94-2.06 2.06-.94-2.06-.94L8.5 2.5l-.94 2.06-2.06.94zm10 10l.94 2.06.94-2.06 2.06-.94-2.06-.94-.94-2.06-.94 2.06-2.06.94z\"/><path d=\"M17.41 7.96l-1.37-1.37c-.4-.4-.92-.59-1.43-.59-.52 0-1.04.2-1.43.59L10.3 9.45l-7.72 7.72c-.78.78-.78 2.05 0 2.83L4 21.41c.39.39.9.59 1.41.59.51 0 1.02-.2 1.41-.59l7.78-7.78 2.81-2.81c.8-.78.8-2.07 0-2.86zM5.41 20L4 18.59l7.72-7.72 1.47 1.35L5.41 20z\"/>\n",
              "  </svg>\n",
              "      </button>\n",
              "      \n",
              "  <style>\n",
              "    .colab-df-container {\n",
              "      display:flex;\n",
              "      flex-wrap:wrap;\n",
              "      gap: 12px;\n",
              "    }\n",
              "\n",
              "    .colab-df-convert {\n",
              "      background-color: #E8F0FE;\n",
              "      border: none;\n",
              "      border-radius: 50%;\n",
              "      cursor: pointer;\n",
              "      display: none;\n",
              "      fill: #1967D2;\n",
              "      height: 32px;\n",
              "      padding: 0 0 0 0;\n",
              "      width: 32px;\n",
              "    }\n",
              "\n",
              "    .colab-df-convert:hover {\n",
              "      background-color: #E2EBFA;\n",
              "      box-shadow: 0px 1px 2px rgba(60, 64, 67, 0.3), 0px 1px 3px 1px rgba(60, 64, 67, 0.15);\n",
              "      fill: #174EA6;\n",
              "    }\n",
              "\n",
              "    [theme=dark] .colab-df-convert {\n",
              "      background-color: #3B4455;\n",
              "      fill: #D2E3FC;\n",
              "    }\n",
              "\n",
              "    [theme=dark] .colab-df-convert:hover {\n",
              "      background-color: #434B5C;\n",
              "      box-shadow: 0px 1px 3px 1px rgba(0, 0, 0, 0.15);\n",
              "      filter: drop-shadow(0px 1px 2px rgba(0, 0, 0, 0.3));\n",
              "      fill: #FFFFFF;\n",
              "    }\n",
              "  </style>\n",
              "\n",
              "      <script>\n",
              "        const buttonEl =\n",
              "          document.querySelector('#df-176e0f4f-6820-4deb-932d-863b38dec785 button.colab-df-convert');\n",
              "        buttonEl.style.display =\n",
              "          google.colab.kernel.accessAllowed ? 'block' : 'none';\n",
              "\n",
              "        async function convertToInteractive(key) {\n",
              "          const element = document.querySelector('#df-176e0f4f-6820-4deb-932d-863b38dec785');\n",
              "          const dataTable =\n",
              "            await google.colab.kernel.invokeFunction('convertToInteractive',\n",
              "                                                     [key], {});\n",
              "          if (!dataTable) return;\n",
              "\n",
              "          const docLinkHtml = 'Like what you see? Visit the ' +\n",
              "            '<a target=\"_blank\" href=https://colab.research.google.com/notebooks/data_table.ipynb>data table notebook</a>'\n",
              "            + ' to learn more about interactive tables.';\n",
              "          element.innerHTML = '';\n",
              "          dataTable['output_type'] = 'display_data';\n",
              "          await google.colab.output.renderOutput(dataTable, element);\n",
              "          const docLink = document.createElement('div');\n",
              "          docLink.innerHTML = docLinkHtml;\n",
              "          element.appendChild(docLink);\n",
              "        }\n",
              "      </script>\n",
              "    </div>\n",
              "  </div>\n",
              "  "
            ]
          },
          "metadata": {},
          "execution_count": 33
        }
      ]
    },
    {
      "cell_type": "markdown",
      "metadata": {
        "id": "3cCRoLhlTLhI"
      },
      "source": [
        "### XGBoost"
      ]
    },
    {
      "cell_type": "code",
      "source": [
        "# Setting up the training and testing set\n",
        "X_train, X_test, y_train, y_test = train_test_split(X,y,test_size = 0.30, random_state=573)"
      ],
      "metadata": {
        "id": "_VeLUZxT9L5f"
      },
      "execution_count": 34,
      "outputs": []
    },
    {
      "cell_type": "code",
      "source": [
        "# We drop our first dummy to make it easier to interpret\n",
        "ohe = OneHotEncoder(handle_unknown='ignore')\n",
        "se = StandardScaler()\n",
        "\n",
        "# Preprocess \n",
        "preprocessor = ColumnTransformer(\n",
        "    transformers = [\n",
        "        (\"num\",StandardScaler(),numerical),\n",
        "        (\"cat\",ohe,categorical),\n",
        "    ]\n",
        ")"
      ],
      "metadata": {
        "id": "gHPs7_Ij9P3r"
      },
      "execution_count": 35,
      "outputs": []
    },
    {
      "cell_type": "code",
      "execution_count": 36,
      "metadata": {
        "id": "DkHOulkgTL_l"
      },
      "outputs": [],
      "source": [
        "reg_enc = xgb.XGBClassifier()\n",
        "\n",
        "# Create a pipeline\n",
        "pipe_xg = Pipeline([\n",
        "    ('preproc', preprocessor),\n",
        "    ('model', reg_enc)\n",
        "    ])"
      ]
    },
    {
      "cell_type": "code",
      "source": [
        "y_pred_xg = pipe_xg.fit(X_train, (y_train)).predict(X_train)"
      ],
      "metadata": {
        "id": "Me78Vz83NM1m"
      },
      "execution_count": 37,
      "outputs": []
    },
    {
      "cell_type": "code",
      "source": [
        "y_pred = cross_validate(pipe_xg, X_train, y_train, return_estimator = True)\n",
        "\n",
        "# Displaying results\n",
        "pd.DataFrame(y_pred)"
      ],
      "metadata": {
        "colab": {
          "base_uri": "https://localhost:8080/",
          "height": 206
        },
        "id": "E7VfDILLHa79",
        "outputId": "56a3475e-d569-4cc6-8bf8-0a266b3c4c0c"
      },
      "execution_count": 40,
      "outputs": [
        {
          "output_type": "execute_result",
          "data": {
            "text/plain": [
              "    fit_time  score_time                                          estimator  \\\n",
              "0  15.232326    0.880784  (ColumnTransformer(transformers=[('num', Stand...   \n",
              "1  12.623559    0.874370  (ColumnTransformer(transformers=[('num', Stand...   \n",
              "2  13.376640    0.906966  (ColumnTransformer(transformers=[('num', Stand...   \n",
              "3  12.689495    0.859070  (ColumnTransformer(transformers=[('num', Stand...   \n",
              "4  12.670832    0.837954  (ColumnTransformer(transformers=[('num', Stand...   \n",
              "\n",
              "   test_score  \n",
              "0    0.937299  \n",
              "1    0.935876  \n",
              "2    0.938995  \n",
              "3    0.938719  \n",
              "4    0.937342  "
            ],
            "text/html": [
              "\n",
              "  <div id=\"df-8e857a59-cbae-4553-a6a7-8e21a20145a1\">\n",
              "    <div class=\"colab-df-container\">\n",
              "      <div>\n",
              "<style scoped>\n",
              "    .dataframe tbody tr th:only-of-type {\n",
              "        vertical-align: middle;\n",
              "    }\n",
              "\n",
              "    .dataframe tbody tr th {\n",
              "        vertical-align: top;\n",
              "    }\n",
              "\n",
              "    .dataframe thead th {\n",
              "        text-align: right;\n",
              "    }\n",
              "</style>\n",
              "<table border=\"1\" class=\"dataframe\">\n",
              "  <thead>\n",
              "    <tr style=\"text-align: right;\">\n",
              "      <th></th>\n",
              "      <th>fit_time</th>\n",
              "      <th>score_time</th>\n",
              "      <th>estimator</th>\n",
              "      <th>test_score</th>\n",
              "    </tr>\n",
              "  </thead>\n",
              "  <tbody>\n",
              "    <tr>\n",
              "      <th>0</th>\n",
              "      <td>15.232326</td>\n",
              "      <td>0.880784</td>\n",
              "      <td>(ColumnTransformer(transformers=[('num', Stand...</td>\n",
              "      <td>0.937299</td>\n",
              "    </tr>\n",
              "    <tr>\n",
              "      <th>1</th>\n",
              "      <td>12.623559</td>\n",
              "      <td>0.874370</td>\n",
              "      <td>(ColumnTransformer(transformers=[('num', Stand...</td>\n",
              "      <td>0.935876</td>\n",
              "    </tr>\n",
              "    <tr>\n",
              "      <th>2</th>\n",
              "      <td>13.376640</td>\n",
              "      <td>0.906966</td>\n",
              "      <td>(ColumnTransformer(transformers=[('num', Stand...</td>\n",
              "      <td>0.938995</td>\n",
              "    </tr>\n",
              "    <tr>\n",
              "      <th>3</th>\n",
              "      <td>12.689495</td>\n",
              "      <td>0.859070</td>\n",
              "      <td>(ColumnTransformer(transformers=[('num', Stand...</td>\n",
              "      <td>0.938719</td>\n",
              "    </tr>\n",
              "    <tr>\n",
              "      <th>4</th>\n",
              "      <td>12.670832</td>\n",
              "      <td>0.837954</td>\n",
              "      <td>(ColumnTransformer(transformers=[('num', Stand...</td>\n",
              "      <td>0.937342</td>\n",
              "    </tr>\n",
              "  </tbody>\n",
              "</table>\n",
              "</div>\n",
              "      <button class=\"colab-df-convert\" onclick=\"convertToInteractive('df-8e857a59-cbae-4553-a6a7-8e21a20145a1')\"\n",
              "              title=\"Convert this dataframe to an interactive table.\"\n",
              "              style=\"display:none;\">\n",
              "        \n",
              "  <svg xmlns=\"http://www.w3.org/2000/svg\" height=\"24px\"viewBox=\"0 0 24 24\"\n",
              "       width=\"24px\">\n",
              "    <path d=\"M0 0h24v24H0V0z\" fill=\"none\"/>\n",
              "    <path d=\"M18.56 5.44l.94 2.06.94-2.06 2.06-.94-2.06-.94-.94-2.06-.94 2.06-2.06.94zm-11 1L8.5 8.5l.94-2.06 2.06-.94-2.06-.94L8.5 2.5l-.94 2.06-2.06.94zm10 10l.94 2.06.94-2.06 2.06-.94-2.06-.94-.94-2.06-.94 2.06-2.06.94z\"/><path d=\"M17.41 7.96l-1.37-1.37c-.4-.4-.92-.59-1.43-.59-.52 0-1.04.2-1.43.59L10.3 9.45l-7.72 7.72c-.78.78-.78 2.05 0 2.83L4 21.41c.39.39.9.59 1.41.59.51 0 1.02-.2 1.41-.59l7.78-7.78 2.81-2.81c.8-.78.8-2.07 0-2.86zM5.41 20L4 18.59l7.72-7.72 1.47 1.35L5.41 20z\"/>\n",
              "  </svg>\n",
              "      </button>\n",
              "      \n",
              "  <style>\n",
              "    .colab-df-container {\n",
              "      display:flex;\n",
              "      flex-wrap:wrap;\n",
              "      gap: 12px;\n",
              "    }\n",
              "\n",
              "    .colab-df-convert {\n",
              "      background-color: #E8F0FE;\n",
              "      border: none;\n",
              "      border-radius: 50%;\n",
              "      cursor: pointer;\n",
              "      display: none;\n",
              "      fill: #1967D2;\n",
              "      height: 32px;\n",
              "      padding: 0 0 0 0;\n",
              "      width: 32px;\n",
              "    }\n",
              "\n",
              "    .colab-df-convert:hover {\n",
              "      background-color: #E2EBFA;\n",
              "      box-shadow: 0px 1px 2px rgba(60, 64, 67, 0.3), 0px 1px 3px 1px rgba(60, 64, 67, 0.15);\n",
              "      fill: #174EA6;\n",
              "    }\n",
              "\n",
              "    [theme=dark] .colab-df-convert {\n",
              "      background-color: #3B4455;\n",
              "      fill: #D2E3FC;\n",
              "    }\n",
              "\n",
              "    [theme=dark] .colab-df-convert:hover {\n",
              "      background-color: #434B5C;\n",
              "      box-shadow: 0px 1px 3px 1px rgba(0, 0, 0, 0.15);\n",
              "      filter: drop-shadow(0px 1px 2px rgba(0, 0, 0, 0.3));\n",
              "      fill: #FFFFFF;\n",
              "    }\n",
              "  </style>\n",
              "\n",
              "      <script>\n",
              "        const buttonEl =\n",
              "          document.querySelector('#df-8e857a59-cbae-4553-a6a7-8e21a20145a1 button.colab-df-convert');\n",
              "        buttonEl.style.display =\n",
              "          google.colab.kernel.accessAllowed ? 'block' : 'none';\n",
              "\n",
              "        async function convertToInteractive(key) {\n",
              "          const element = document.querySelector('#df-8e857a59-cbae-4553-a6a7-8e21a20145a1');\n",
              "          const dataTable =\n",
              "            await google.colab.kernel.invokeFunction('convertToInteractive',\n",
              "                                                     [key], {});\n",
              "          if (!dataTable) return;\n",
              "\n",
              "          const docLinkHtml = 'Like what you see? Visit the ' +\n",
              "            '<a target=\"_blank\" href=https://colab.research.google.com/notebooks/data_table.ipynb>data table notebook</a>'\n",
              "            + ' to learn more about interactive tables.';\n",
              "          element.innerHTML = '';\n",
              "          dataTable['output_type'] = 'display_data';\n",
              "          await google.colab.output.renderOutput(dataTable, element);\n",
              "          const docLink = document.createElement('div');\n",
              "          docLink.innerHTML = docLinkHtml;\n",
              "          element.appendChild(docLink);\n",
              "        }\n",
              "      </script>\n",
              "    </div>\n",
              "  </div>\n",
              "  "
            ]
          },
          "metadata": {},
          "execution_count": 40
        }
      ]
    },
    {
      "cell_type": "markdown",
      "metadata": {
        "id": "bSXPUti99veK"
      },
      "source": [
        "### Confusion Matrix"
      ]
    },
    {
      "cell_type": "code",
      "source": [
        "# Logistic \n",
        "datos_confmat = ConfusionMatrixDisplay.from_estimator(pipe_log, X_test, y_test)"
      ],
      "metadata": {
        "colab": {
          "base_uri": "https://localhost:8080/",
          "height": 279
        },
        "id": "o2k9n4_YpTzJ",
        "outputId": "41999273-a30e-41da-f3f6-2f8cb36d9d35"
      },
      "execution_count": 41,
      "outputs": [
        {
          "output_type": "display_data",
          "data": {
            "text/plain": [
              "<Figure size 432x288 with 2 Axes>"
            ],
            "image/png": "[encoded data removed]"
          },
          "metadata": {
            "needs_background": "light"
          }
        }
      ]
    },
    {
      "cell_type": "code",
      "source": [
        "y_pred_log = pipe_log.fit(X_train, y_train).predict(X_test)\n",
        "accuracy_score(y_test,y_pred_log)"
      ],
      "metadata": {
        "colab": {
          "base_uri": "https://localhost:8080/"
        },
        "id": "rYiqOHWTmCmg",
        "outputId": "cce10e02-fd23-476f-a26d-1992bc4261e6"
      },
      "execution_count": 42,
      "outputs": [
        {
          "output_type": "execute_result",
          "data": {
            "text/plain": [
              "0.9395938651358067"
            ]
          },
          "metadata": {},
          "execution_count": 42
        }
      ]
    },
    {
      "cell_type": "code",
      "source": [
        "datos_confmat = ConfusionMatrixDisplay.from_estimator(pipe_tree, X_test, y_test)"
      ],
      "metadata": {
        "colab": {
          "base_uri": "https://localhost:8080/",
          "height": 279
        },
        "id": "z_9jelXDcMJz",
        "outputId": "af0a32e7-c6ec-4b44-954e-53bfb1181624"
      },
      "execution_count": 43,
      "outputs": [
        {
          "output_type": "display_data",
          "data": {
            "text/plain": [
              "<Figure size 432x288 with 2 Axes>"
            ],
            "image/png": "[encoded data removed]"
          },
          "metadata": {
            "needs_background": "light"
          }
        }
      ]
    },
    {
      "cell_type": "code",
      "source": [
        "y_pred_tree = pipe_tree.fit(X_train, y_train).predict(X_test)\n",
        "accuracy_score(y_test,y_pred_tree)"
      ],
      "metadata": {
        "colab": {
          "base_uri": "https://localhost:8080/"
        },
        "id": "bDnE9sFkhEa7",
        "outputId": "29a540b1-f2f6-47e4-f26c-2fd81e7bfd32"
      },
      "execution_count": 44,
      "outputs": [
        {
          "output_type": "execute_result",
          "data": {
            "text/plain": [
              "0.9711035900951075"
            ]
          },
          "metadata": {},
          "execution_count": 44
        }
      ]
    },
    {
      "cell_type": "code",
      "source": [
        "datos_confmat = ConfusionMatrixDisplay.from_estimator(pipe_xg, X_test, y_test)"
      ],
      "metadata": {
        "colab": {
          "base_uri": "https://localhost:8080/",
          "height": 283
        },
        "id": "r4LWF1LicNiS",
        "outputId": "6ad5a234-791d-4463-f4b3-b4ebc2b80d9f"
      },
      "execution_count": 45,
      "outputs": [
        {
          "output_type": "display_data",
          "data": {
            "text/plain": [
              "<Figure size 432x288 with 2 Axes>"
            ],
            "image/png": "[encoded data removed]"
          },
          "metadata": {
            "needs_background": "light"
          }
        }
      ]
    },
    {
      "cell_type": "code",
      "source": [
        "y_pred_xg = pipe_xg.fit(X_train, y_train).predict(X_test)\n",
        "accuracy_score(y_test,y_pred_xg)"
      ],
      "metadata": {
        "colab": {
          "base_uri": "https://localhost:8080/"
        },
        "id": "9YdSMFURg_Hp",
        "outputId": "206c8ce7-51e3-4edd-bd04-fe61c73c059c"
      },
      "execution_count": 46,
      "outputs": [
        {
          "output_type": "execute_result",
          "data": {
            "text/plain": [
              "0.9376660097678006"
            ]
          },
          "metadata": {},
          "execution_count": 46
        }
      ]
    }
  ],
  "metadata": {
    "colab": {
      "collapsed_sections": [],
      "provenance": [],
      "include_colab_link": true
    },
    "kernelspec": {
      "display_name": "Python 3",
      "name": "python3"
    },
    "language_info": {
      "name": "python"
    }
  },
  "nbformat": 4,
  "nbformat_minor": 0
}