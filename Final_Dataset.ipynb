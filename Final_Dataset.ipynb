{
  "nbformat": 4,
  "nbformat_minor": 0,
  "metadata": {
    "colab": {
      "provenance": [],
      "authorship_tag": "ABX9TyMpQ4PN7AIXyyCCboH8WL73",
      "include_colab_link": true
    },
    "kernelspec": {
      "name": "python3",
      "display_name": "Python 3"
    },
    "language_info": {
      "name": "python"
    }
  },
  "cells": [
    {
      "cell_type": "markdown",
      "metadata": {
        "id": "view-in-github",
        "colab_type": "text"
      },
      "source": [
        "<a href=\"https://colab.research.google.com/github/GresaSm/ML-Project-Year-I/blob/main/Final_Dataset.ipynb\" target=\"_parent\"><img src=\"https://colab.research.google.com/assets/colab-badge.svg\" alt=\"Open In Colab\"/></a>"
      ]
    },
    {
      "cell_type": "code",
      "execution_count": 1,
      "metadata": {
        "id": "KS7IUrqJQPaa"
      },
      "outputs": [],
      "source": [
        "# Code to read csv file into Colaboratory:\n",
        "# !pip install -U -q PyDrive\n",
        "from pydrive.auth import GoogleAuth\n",
        "from pydrive.drive import GoogleDrive\n",
        "from google.colab import auth\n",
        "from oauth2client.client import GoogleCredentials\n",
        "\n",
        "# Authenticate and create the PyDrive client.\n",
        "auth.authenticate_user()\n",
        "gauth = GoogleAuth()\n",
        "gauth.credentials = GoogleCredentials.get_application_default()\n",
        "drive = GoogleDrive(gauth)"
      ]
    },
    {
      "cell_type": "code",
      "source": [
        "import pandas as pd\n",
        "\n",
        "# link for january\n",
        "link = 'https://drive.google.com/file/d/1a8uOwDEfrx6Wsuuk_QLCRKjvHy1BCBHr/view?usp=share_link' # The shareable link\n",
        "\n",
        "# getting the id part of the link\n",
        "id = link.split(\"/\")[-2]\n",
        " \n",
        "downloaded = drive.CreateFile({'id':id})\n",
        "downloaded.GetContentFile('january_2019.csv') \n",
        " \n",
        "january = pd.read_csv('january_2019.csv')"
      ],
      "metadata": {
        "colab": {
          "base_uri": "https://localhost:8080/"
        },
        "id": "4LVIABsYRaFW",
        "outputId": "1a99b86f-9bd1-43b5-c13d-37e7eb96eead"
      },
      "execution_count": 2,
      "outputs": [
        {
          "output_type": "stream",
          "name": "stderr",
          "text": [
            "/usr/local/lib/python3.7/dist-packages/IPython/core/interactiveshell.py:3326: DtypeWarning: Columns (32,185,343) have mixed types.Specify dtype option on import or set low_memory=False.\n",
            "  exec(code_obj, self.user_global_ns, self.user_ns)\n"
          ]
        }
      ]
    },
    {
      "cell_type": "code",
      "source": [
        "# link for february\n",
        "link = 'https://drive.google.com/file/d/1KVKIUYSkInnBfWSiNq3JFarQWtLMtyy7/view?usp=share_link' # The shareable link\n",
        "\n",
        "# getting the id part of the link\n",
        "id = link.split(\"/\")[-2]\n",
        " \n",
        "downloaded = drive.CreateFile({'id':id})\n",
        "downloaded.GetContentFile('february_2019.csv') \n",
        " \n",
        "february = pd.read_csv('february_2019.csv')"
      ],
      "metadata": {
        "id": "RVxVZUFG_kuG"
      },
      "execution_count": 3,
      "outputs": []
    },
    {
      "cell_type": "code",
      "source": [
        "# link for march\n",
        "link = 'https://drive.google.com/file/d/1yrKp_Ou7HxvinI4AMhV3fAAJXsEXRWub/view?usp=share_link' # The shareable link\n",
        "\n",
        "# getting the id part of the link\n",
        "id = link.split(\"/\")[-2]\n",
        " \n",
        "downloaded = drive.CreateFile({'id':id})\n",
        "downloaded.GetContentFile('march_2019.csv') \n",
        " \n",
        "march = pd.read_csv('march_2019.csv')"
      ],
      "metadata": {
        "id": "mgfQ7okh_wE7"
      },
      "execution_count": 4,
      "outputs": []
    },
    {
      "cell_type": "code",
      "source": [
        "# link for april\n",
        "link = 'https://drive.google.com/file/d/1wFPytnBqOHa3zyiHrWH7SWejUhxDJcFD/view?usp=share_link' # The shareable link\n",
        "\n",
        "# to get the id part of the file\n",
        "id = link.split(\"/\")[-2]\n",
        " \n",
        "downloaded = drive.CreateFile({'id':id})\n",
        "downloaded.GetContentFile('april_2019.csv') \n",
        " \n",
        "april = pd.read_csv('april_2019.csv')"
      ],
      "metadata": {
        "id": "qifOkBoA_EwT"
      },
      "execution_count": 5,
      "outputs": []
    },
    {
      "cell_type": "code",
      "source": [
        "# link for may\n",
        "link = 'https://drive.google.com/file/d/1-YnOxer-uBTXRFqoAgwVl2tuTWn4EHrJ/view?usp=share_link' # The shareable link\n",
        "\n",
        "# getting the id part of the link\n",
        "id = link.split(\"/\")[-2]\n",
        " \n",
        "downloaded = drive.CreateFile({'id':id})\n",
        "downloaded.GetContentFile('may_2019.csv') \n",
        " \n",
        "may = pd.read_csv('may_2019.csv')"
      ],
      "metadata": {
        "colab": {
          "base_uri": "https://localhost:8080/"
        },
        "id": "CAbfZIJMAIUL",
        "outputId": "91a65228-993d-4333-b701-8382220a6feb"
      },
      "execution_count": 6,
      "outputs": [
        {
          "output_type": "stream",
          "name": "stderr",
          "text": [
            "/usr/local/lib/python3.7/dist-packages/IPython/core/interactiveshell.py:3326: DtypeWarning: Columns (7,8,32,185,343) have mixed types.Specify dtype option on import or set low_memory=False.\n",
            "  exec(code_obj, self.user_global_ns, self.user_ns)\n"
          ]
        }
      ]
    },
    {
      "cell_type": "code",
      "source": [
        "# link for june\n",
        "link = 'https://drive.google.com/file/d/1zyjtpDGSaHe0tI9r_foDseaGOH2MlGGT/view?usp=share_link' # The shareable link\n",
        "\n",
        "# getting the id part of the link\n",
        "id = link.split(\"/\")[-2]\n",
        " \n",
        "downloaded = drive.CreateFile({'id':id})\n",
        "downloaded.GetContentFile('june_2019.csv') \n",
        " \n",
        "june = pd.read_csv('june_2019.csv')"
      ],
      "metadata": {
        "id": "oEaB4W6hCzJY"
      },
      "execution_count": 7,
      "outputs": []
    },
    {
      "cell_type": "code",
      "source": [
        "# link for july\n",
        "link = 'https://drive.google.com/file/d/1xtddt-kwFROZiR4BE1Uyp2AIYqJRGYUR/view?usp=share_link' # The shareable link\n",
        "\n",
        "# getting the id part of the link\n",
        "id = link.split(\"/\")[-2]\n",
        " \n",
        "downloaded = drive.CreateFile({'id':id})\n",
        "downloaded.GetContentFile('july_2019.csv') \n",
        " \n",
        "july = pd.read_csv('july_2019.csv')"
      ],
      "metadata": {
        "id": "9um6NdTbDi8a"
      },
      "execution_count": 8,
      "outputs": []
    },
    {
      "cell_type": "code",
      "source": [
        "# link for august\n",
        "link = 'https://drive.google.com/file/d/166n7LMpJz5fpkEqVA1hmhBhi-3Gt3CTG/view?usp=share_link' # The shareable link\n",
        "\n",
        "# getting the id part of the link\n",
        "id = link.split(\"/\")[-2]\n",
        " \n",
        "downloaded = drive.CreateFile({'id':id})\n",
        "downloaded.GetContentFile('august_2019.csv') \n",
        " \n",
        "august = pd.read_csv('august_2019.csv')"
      ],
      "metadata": {
        "id": "6Qd1hWVnDGg4"
      },
      "execution_count": 9,
      "outputs": []
    },
    {
      "cell_type": "code",
      "source": [
        "# link for september\n",
        "link = 'https://drive.google.com/file/d/1YHkM4JzgH5yRIdOH5LDZNjjerXUXhjBy/view?usp=share_link' # The shareable link\n",
        "\n",
        "# getting the id part of the link\n",
        "id = link.split(\"/\")[-2]\n",
        " \n",
        "downloaded = drive.CreateFile({'id':id})\n",
        "downloaded.GetContentFile('september_2019.csv') \n",
        " \n",
        "september = pd.read_csv('september_2019.csv')"
      ],
      "metadata": {
        "id": "nngo_aBcDlT1"
      },
      "execution_count": 10,
      "outputs": []
    },
    {
      "cell_type": "code",
      "source": [
        "# link for october\n",
        "link = 'https://drive.google.com/file/d/1LCNYAR5YSaDaD7PRfAJQmlVcgjSvBAzA/view?usp=share_link' # The shareable link\n",
        "\n",
        "# getting the id part of the link\n",
        "id = link.split(\"/\")[-2]\n",
        " \n",
        "downloaded = drive.CreateFile({'id':id})\n",
        "downloaded.GetContentFile('october_2019.csv') \n",
        " \n",
        "october = pd.read_csv('october_2019.csv')"
      ],
      "metadata": {
        "id": "f7-PQHBwDl4p"
      },
      "execution_count": 11,
      "outputs": []
    },
    {
      "cell_type": "code",
      "source": [
        "# link for november\n",
        "link = 'https://drive.google.com/file/d/1uXS0ablTe3aUwQKkoinLP8YCL2Eov5Xh/view?usp=share_link' # The shareable link\n",
        "\n",
        "# getting the id part of the link\n",
        "id = link.split(\"/\")[-2]\n",
        " \n",
        "downloaded = drive.CreateFile({'id':id})\n",
        "downloaded.GetContentFile('november_2019.csv') \n",
        " \n",
        "november = pd.read_csv('november_2019.csv')"
      ],
      "metadata": {
        "id": "-zSjbeGMDmd4"
      },
      "execution_count": 12,
      "outputs": []
    },
    {
      "cell_type": "code",
      "source": [
        "# link for december\n",
        "link = 'https://drive.google.com/file/d/1uXS0ablTe3aUwQKkoinLP8YCL2Eov5Xh/view?usp=share_link' # The shareable link\n",
        "\n",
        "# getting the id part of the link\n",
        "id = link.split(\"/\")[-2]\n",
        " \n",
        "downloaded = drive.CreateFile({'id':id})\n",
        "downloaded.GetContentFile('december_2019.csv') \n",
        " \n",
        "december = pd.read_csv('december_2019.csv')"
      ],
      "metadata": {
        "id": "N-Ze6A0UDnAE"
      },
      "execution_count": 13,
      "outputs": []
    },
    {
      "cell_type": "code",
      "source": [
        "df = [january, february, march, april, may, june, july, august, september, october, november, december]\n",
        "df = pd.concat(df).reset_index(True)"
      ],
      "metadata": {
        "id": "-D4ZSVj0Egvv"
      },
      "execution_count": null,
      "outputs": []
    },
    {
      "cell_type": "code",
      "source": [
        "df"
      ],
      "metadata": {
        "id": "0TyXL6-5FEGC"
      },
      "execution_count": null,
      "outputs": []
    },
    {
      "cell_type": "code",
      "source": [
        "df = pd.read_csv('april_2019.csv')\n",
        "df.drop([\"Unnamed: 0\", \"MES_y.1\", \"MES_y\", \"DIRECTORIO_x\", \"DIRECTORIO_y\", \"DIRECTORIO_x.1\", \"DIRECTORIO_y.1\", \"SECUENCIA_P_x\", \"SECUENCIA_P_y\", \"SECUENCIA_P_x.1\", \"SECUENCIA_P_y.1\", \"ORDEN_x\", \"ORDEN_y\", \"ORDEN_x.1\", \"ORDEN_y.1\", \"HOGAR_x\", \"HOGAR_y\", \"HOGAR_x.1\", \"HOGAR_y.1\", \"DPTO_x\", \"DPTO_y\", \"DPTO_x.1\", \"DPTO_y.1\", \"base_x\", \"base_y\", \"base_x.1\", \"base_y.1\", \"REGIS_y\", \"REGIS_y.1\"], axis=1, inplace=True)\n",
        "df.columns.values"
      ],
      "metadata": {
        "id": "Fvsv1GPhRgpD",
        "colab": {
          "base_uri": "https://localhost:8080/"
        },
        "outputId": "a3aa1b94-16fa-4e68-d9af-cb256f780131"
      },
      "execution_count": 29,
      "outputs": [
        {
          "output_type": "stream",
          "name": "stderr",
          "text": [
            "/usr/local/lib/python3.7/dist-packages/IPython/core/interactiveshell.py:3326: DtypeWarning: Columns (32,185,343) have mixed types.Specify dtype option on import or set low_memory=False.\n",
            "  exec(code_obj, self.user_global_ns, self.user_ns)\n"
          ]
        },
        {
          "output_type": "execute_result",
          "data": {
            "text/plain": [
              "array(['P6016', 'P6020', 'P6030S1', 'P6030S3', 'P6040', 'P6050', 'P6070',\n",
              "       'P6081', 'P6081S1', 'P6083', 'P6083S1', 'P6071', 'P6071S1',\n",
              "       'P6090', 'P6140', 'P6150', 'P6100', 'P6110', 'P6120', 'P6125',\n",
              "       'P6160', 'P6170', 'P6175', 'P6210', 'P6210S1', 'P6220', 'P6269',\n",
              "       'ESC', 'code', 'P7250', 'P7260', 'P7280', 'P7280S1', 'P7310',\n",
              "       'P7320', 'P7350', 'P7350S1', 'P7360', 'P9460', 'P7390', 'P7390S1',\n",
              "       'P7420', 'P7420S1', 'P7420S2', 'P7420S3', 'P7420S4', 'P7420S5',\n",
              "       'P7420S6', 'P7420S7', 'P7420S7A1', 'P7420S8', 'P7422', 'P7422S1',\n",
              "       'P1806', 'P1519', 'P1883', 'OFICIO1', 'OFICIO2', 'RAMA2D_D', 'DSI',\n",
              "       'DSCY', 'RAMA4D_D', 'P7430', 'P7440', 'P7450', 'P7450S1', 'P7452',\n",
              "       'P7454', 'P7456', 'P7458', 'P7458S1', 'P7460', 'P7470', 'P7472',\n",
              "       'P7472S1', 'P744', 'P1884', 'P1807', 'P6921', 'INI', 'P388',\n",
              "       'P6440', 'P6450', 'P6460', 'P6460S1', 'P6400', 'P6410', 'P6410S1',\n",
              "       'P6422', 'P6424S1', 'P6424S2', 'P6424S3', 'P6426', 'P6430S1',\n",
              "       'P6480', 'P6480S1', 'P9440', 'P6500', 'P6510', 'P6510S1',\n",
              "       'P6510S2', 'P6590', 'P6590S1', 'P6600', 'P6600S1', 'P6610',\n",
              "       'P6610S1', 'P6620', 'P6620S1', 'P6585S1', 'P6585S1A1', 'P6585S1A2',\n",
              "       'P6585S2', 'P6585S2A1', 'P6585S2A2', 'P6585S3', 'P6585S3A1',\n",
              "       'P6585S3A2', 'P6585S4', 'P6585S4A1', 'P6585S4A2', 'P6545',\n",
              "       'P6545S1', 'P6545S2', 'P6580', 'P6580S1', 'P6580S2', 'P6630S1',\n",
              "       'P6630S1A1', 'P6630S2', 'P6630S2A1', 'P6630S3', 'P6630S3A1',\n",
              "       'P6630S4', 'P6630S4A1', 'P6630S6', 'P6630S6A1', 'P6640', 'P6640S1',\n",
              "       'P6765', 'P6765S1', 'P6772', 'P6772S1', 'P6773S1', 'P6775',\n",
              "       'P6750', 'P6760', 'P550', 'P6780', 'P6780S1', 'P6790', 'P1800',\n",
              "       'P1800S1', 'P1801S1', 'P1801S2', 'P1801S3', 'P1802', 'P1879',\n",
              "       'P1805', 'P6800', 'P6810', 'P6810S1', 'P6850', 'P6830', 'P6830S1',\n",
              "       'P6870', 'P6880', 'P6880S1', 'P6915', 'P6915S1', 'P6920', 'P6930',\n",
              "       'P6940', 'P6960', 'P6980', 'P6980S1', 'P6980S2', 'P6980S3',\n",
              "       'P6980S4', 'P6980S5', 'P6980S6', 'P6980S7', 'P6980S7A1', 'P6980S8',\n",
              "       'P6990', 'P9450', 'P7020', 'P760', 'P7026', 'P7028', 'P7028S1',\n",
              "       'P7040', 'P390', 'P7045', 'P7050', 'P7050S1', 'P7070', 'P7075',\n",
              "       'P7077', 'P1880', 'P1881', 'P1882', 'P7090', 'P7100', 'P7110',\n",
              "       'P7120', 'P7130', 'P7140', 'P7140S1', 'P7140S2', 'P7140S3',\n",
              "       'P7140S4', 'P7140S5', 'P7140S6', 'P7140S7', 'P7140S8', 'P7140S9',\n",
              "       'P7140S9A1', 'P7150', 'P7160', 'P7170S1', 'P7170S5', 'P7170S6',\n",
              "       'P7180', 'P514', 'P515', 'P7240', 'P7240S1', 'OFICIO', 'RAMA2D',\n",
              "       'OCI', 'P6430', 'RAMA4D', 'RAMA4DP8', 'RAMA2DP8', 'INGLABO',\n",
              "       'P6290', 'P6290S1', 'P6230', 'P6240', 'P6240S1', 'P6250', 'P6260',\n",
              "       'P6270', 'P6280', 'P6300', 'P6310', 'P6310S1', 'P6320', 'P6330',\n",
              "       'P6340', 'P6350', 'P6351', 'P7480S1', 'P7480S1A1', 'P7480S3',\n",
              "       'P7480S3A1', 'P7480S4', 'P7480S4A1', 'P7480S5', 'P7480S5A1',\n",
              "       'P7480S6', 'P7480S6A1', 'P7480S7', 'P7480S7A1', 'P7480S8',\n",
              "       'P7480S8A1', 'P7480S9', 'P7480S9A1', 'P7480S10', 'P7480S10A1',\n",
              "       'P7480S11', 'P7480S11A1', 'DIRECTORIO', 'SECUENCIA_P', 'ORDEN',\n",
              "       'HOGAR', 'REGIS', 'P7495', 'P7500S1', 'P7500S1A1', 'P7500S2',\n",
              "       'P7500S2A1', 'P7500S3', 'P7500S3A1', 'P7505', 'P7510S1',\n",
              "       'P7510S1A1', 'P7510S2', 'P7510S2A1', 'P7510S3', 'P7510S3A1',\n",
              "       'P750S1', 'P750S1A1', 'P750S2', 'P750S2A1', 'P1661S1', 'P1661S1A1',\n",
              "       'P1661S2', 'P1661S2A1', 'P1661S3', 'P1661S3A1', 'P1661S4',\n",
              "       'P1661S4A1', 'P1661S4A2', 'P750S3', 'P750S3A1', 'P750S4',\n",
              "       'P7510S5', 'P7510S5A1', 'P7510S6', 'P7510S6A1', 'P7510S7',\n",
              "       'P7510S7A1', 'AREA', 'MES', 'DPTO', 'fex_c_2011', 'base', 'CLASE'],\n",
              "      dtype=object)"
            ]
          },
          "metadata": {},
          "execution_count": 29
        }
      ]
    }
  ]
}