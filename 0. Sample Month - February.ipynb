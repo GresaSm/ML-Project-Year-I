{
 "cells": [
  {
   "cell_type": "code",
   "execution_count": 1,
   "id": "92bb1dcd",
   "metadata": {},
   "outputs": [],
   "source": [
    "import pandas as pd"
   ]
  },
  {
   "cell_type": "code",
   "execution_count": 2,
   "id": "f27de2aa",
   "metadata": {},
   "outputs": [],
   "source": [
    "# Loading all area databases\n",
    "area_1 = pd.read_csv(\"╡rea - Características generales (Personas).csv\", sep=';')\n",
    "area_3 = pd.read_csv(\"╡rea - Fuerza de Trabajo.csv\", sep=';')\n",
    "area_5 = pd.read_csv(\"╡rea - Ocupados.csv\", sep=';')\n",
    "area_6 = pd.read_csv(\"╡rea - Otras actividades y ayudas en la semana.csv\", sep=';')\n",
    "area_7 = pd.read_csv(\"╡rea - Otros Ingresos.csv\", sep=';')\n",
    "\n",
    "# loading all cabecera databases\n",
    "cabecera_1 = pd.read_csv(\"Cabecera - Características generales (Personas).csv\", sep=';')\n",
    "cabecera_3 = pd.read_csv(\"Cabecera - Fuerza de Trabajo.csv\", sep=';')\n",
    "cabecera_5 = pd.read_csv(\"Cabecera - Ocupados.csv\", sep=';')\n",
    "cabecera_6 = pd.read_csv(\"Cabecera - Otras actividades y ayudas en la semana.csv\", sep=';')\n",
    "cabecera_7 = pd.read_csv(\"Cabecera - Otros Ingresos.csv\", sep=';')\n",
    "\n",
    "# loading all resto databases\n",
    "resto_1 = pd.read_csv(\"Resto - Características generales (Personas).csv\", sep=';')\n",
    "resto_3 = pd.read_csv(\"Resto - Fuerza de Trabajo.csv\", sep=';')\n",
    "resto_5 = pd.read_csv(\"Resto - Ocupados.csv\", sep=';')\n",
    "resto_6 = pd.read_csv(\"Resto - Otras actividades y ayudas en la semana.csv\", sep=';')\n",
    "resto_7 = pd.read_csv(\"Resto - Otros Ingresos.csv\", sep=';')"
   ]
  },
  {
   "cell_type": "code",
   "execution_count": 3,
   "id": "432c26fc",
   "metadata": {},
   "outputs": [],
   "source": [
    "# Adding a new column that indicates the origin of the data\n",
    "area_1[\"base\"] = \"Area\"\n",
    "area_3[\"base\"] = \"Area\"\n",
    "area_5[\"base\"] = \"Area\"\n",
    "area_6[\"base\"] = \"Area\"\n",
    "area_7[\"base\"] = \"Area\"\n",
    "\n",
    "cabecera_1[\"base\"] = \"Cabecera\"\n",
    "cabecera_3[\"base\"] = \"Cabecera\"\n",
    "cabecera_5[\"base\"] = \"Cabecera\"\n",
    "cabecera_6[\"base\"] = \"Cabecera\"\n",
    "cabecera_7[\"base\"] = \"Cabecera\"\n",
    "\n",
    "resto_1[\"base\"] = \"Resto\"\n",
    "resto_3[\"base\"] = \"Resto\"\n",
    "resto_5[\"base\"] = \"Resto\"\n",
    "resto_6[\"base\"] = \"Resto\"\n",
    "resto_7[\"base\"] = \"Resto\""
   ]
  },
  {
   "cell_type": "code",
   "execution_count": 4,
   "id": "eb211f86",
   "metadata": {},
   "outputs": [],
   "source": [
    "# Creating a function that generates the code for each dataframe\n",
    "def code_maker(m):\n",
    "    a = [] # empty list\n",
    "    for i in range(len(m)): # for loop that iterates over the number of lines of the dataframe\n",
    "        x = m[\"DIRECTORIO\"][i] # takes the value in column DIRECTORIO\n",
    "        y = m[\"ORDEN\"][i] # takes the value in column ORDEN\n",
    "        z = m[\"HOGAR\"][i] # takes the value in column HOGAR\n",
    "        a.append(str(x)+\"_\"+str(y)+\"_\"+str(z)) # adds the concatenated values as values to the list\n",
    "    return(a) # returns a list with the codes "
   ]
  },
  {
   "cell_type": "code",
   "execution_count": 5,
   "id": "9d0f4f39",
   "metadata": {
    "scrolled": false
   },
   "outputs": [],
   "source": [
    "# List with all area databases (exluding the 8th one because it doesn't have the columns we need)\n",
    "a_list = [area_1, area_3, area_5, area_6, area_7]\n",
    "\n",
    "# List with all cabebecera databases (exluding the 8th one because it doesn't have the columns we need)\n",
    "c_list = [cabecera_1, cabecera_3, cabecera_5, cabecera_6, cabecera_7]\n",
    "\n",
    "# List with all resto databases (exluding the 8th one because it doesn't have the columns we need)\n",
    "r_list = [resto_1, resto_3, resto_5, resto_6, resto_7]"
   ]
  },
  {
   "cell_type": "code",
   "execution_count": 6,
   "id": "264373a1",
   "metadata": {},
   "outputs": [],
   "source": [
    "# adding the code column to all area databases\n",
    "for i in a_list:\n",
    "    x = code_maker(i)\n",
    "    i[\"code\"] = x\n",
    "    \n",
    "# adding the code column to all cabecera databases\n",
    "for i in c_list:\n",
    "    x = code_maker(i)\n",
    "    i[\"code\"] = x\n",
    "\n",
    "# adding the code column to all resto databases\n",
    "for i in r_list:\n",
    "    x = code_maker(i)\n",
    "    i[\"code\"] = x"
   ]
  },
  {
   "cell_type": "code",
   "execution_count": 7,
   "id": "adf1e546",
   "metadata": {},
   "outputs": [],
   "source": [
    "# Uniting al the area dataframes\n",
    "area = pd.merge(area_5, area_1, how='left', on='code')\n",
    "area = pd.merge(area, area_3, how='left', on='code')\n",
    "area = pd.merge(area, area_6, how='left', on='code')\n",
    "area = pd.merge(area, area_7, how='left', on='code')\n",
    "\n",
    "# adding clase column to specify it is all urban\n",
    "area[\"CLASE\"] = 1\n",
    "\n",
    "# erasing unnecesary columns\n",
    "area = area.drop([\"REGIS_x\", \"AREA_x\", \"MES_x\", \"fex_c_2011_x\", \"AREA_y\", \"fex_c_2011_y\", \"FT\"], axis = 1)"
   ]
  },
  {
   "cell_type": "code",
   "execution_count": 8,
   "id": "76ab19d4",
   "metadata": {
    "scrolled": true
   },
   "outputs": [],
   "source": [
    "# Uniting al the cabecera dataframes\n",
    "cabecera = pd.merge(cabecera_5, cabecera_1, how='left', on='code')\n",
    "cabecera = pd.merge(cabecera, cabecera_3, how='left', on='code')\n",
    "cabecera = pd.merge(cabecera, cabecera_6, how='left', on='code')\n",
    "cabecera = pd.merge(cabecera, cabecera_7, how='left', on='code')\n",
    "\n",
    "#weird clase thing\n",
    "k = cabecera[\"CLASE\"]\n",
    "\n",
    "# eliminating extra columns\n",
    "cabecera = cabecera.drop([\"CLASE_x\", \"CLASE_y\", \"FT\", \"clase_x\", \"clase_y\", \"AREA_x\", \"FT\", \"AREA_y\", \"REGIS_x\", \"MES_x\", \"fex_c_2011_x\", \"fex_c_2011_y\", \"CLASE\"], axis = 1)\n",
    "\n",
    "# #weird clase thing pt2\n",
    "cabecera[\"CLASE\"] = k"
   ]
  },
  {
   "cell_type": "code",
   "execution_count": 9,
   "id": "884149f0",
   "metadata": {},
   "outputs": [],
   "source": [
    "# Uniting al the resto dataframes\n",
    "resto = pd.merge(resto_5, resto_1, how='left', on='code')\n",
    "resto = pd.merge(resto, resto_3, how='left', on='code')\n",
    "resto = pd.merge(resto, resto_6, how='left', on='code')\n",
    "resto = pd.merge(resto, resto_7, how='left', on='code')\n",
    "\n",
    "#weird clase thing\n",
    "k = resto[\"CLASE\"]\n",
    "\n",
    "resto = resto.drop([\"CLASE_x\", \"CLASE_y\", \"clase_x\", \"clase_y\", \"REGIS_x\", \"MES_x\", \"fex_c_2011_x\", \"fex_c_2011_y\", \"REGIS_x\", \"MES_x\", \"CLASE\"], axis = 1)\n",
    "\n",
    "# #weird clase thing pt2\n",
    "resto[\"CLASE\"] = k"
   ]
  },
  {
   "cell_type": "code",
   "execution_count": 10,
   "id": "858f13a5",
   "metadata": {},
   "outputs": [],
   "source": [
    "area.to_csv('C:/Users/maria/Documents/Hertie/First Semester/Machine Learning/Project/febrero.csv/area.csv', index = True)\n",
    "cabecera.to_csv('C:/Users/maria/Documents/Hertie/First Semester/Machine Learning/Project/febrero.csv/cabecera.csv', index = True)\n",
    "resto.to_csv('C:/Users/maria/Documents/Hertie/First Semester/Machine Learning/Project/febrero.csv/resto.csv', index = True)"
   ]
  },
  {
   "cell_type": "code",
   "execution_count": 11,
   "id": "61de7fc3",
   "metadata": {},
   "outputs": [
    {
     "name": "stderr",
     "output_type": "stream",
     "text": [
      "C:\\Users\\maria\\anaconda3\\lib\\site-packages\\IPython\\core\\interactiveshell.py:3165: DtypeWarning: Columns (196) have mixed types.Specify dtype option on import or set low_memory=False.\n",
      "  has_raised = await self.run_ast_nodes(code_ast.body, cell_name,\n",
      "C:\\Users\\maria\\anaconda3\\lib\\site-packages\\IPython\\core\\interactiveshell.py:3165: DtypeWarning: Columns (95,196,295) have mixed types.Specify dtype option on import or set low_memory=False.\n",
      "  has_raised = await self.run_ast_nodes(code_ast.body, cell_name,\n"
     ]
    }
   ],
   "source": [
    "a = pd.read_csv(\"area.csv\")\n",
    "b = pd.read_csv(\"cabecera.csv\")\n",
    "c = pd.read_csv(\"resto.csv\")"
   ]
  },
  {
   "cell_type": "code",
   "execution_count": 12,
   "id": "6e2ff7f1",
   "metadata": {},
   "outputs": [],
   "source": [
    "df = [a, b, c]\n",
    "df = pd.concat(df, axis = 0).reset_index(drop=True).drop(\"Unnamed: 0\", axis = 1)"
   ]
  },
  {
   "cell_type": "code",
   "execution_count": 13,
   "id": "f14672a9",
   "metadata": {},
   "outputs": [],
   "source": [
    "df.to_csv('C:/Users/maria/Documents/Hertie/First Semester/Machine Learning/Project/Consolidado/february_2019.csv', index = True)"
   ]
  },
  {
   "cell_type": "code",
   "execution_count": 14,
   "id": "b34c6046",
   "metadata": {
    "scrolled": true
   },
   "outputs": [],
   "source": [
    "# for i in resto.columns.values:\n",
    "#     if i in cabecera.columns.values:\n",
    "#         continue\n",
    "#     else:\n",
    "#         print(i)"
   ]
  },
  {
   "cell_type": "code",
   "execution_count": 15,
   "id": "a396a25b",
   "metadata": {},
   "outputs": [],
   "source": [
    "# for i in range(len(cabecera.columns.values)):\n",
    "#     if cabecera.columns.get_loc(\"AREA_x\")[i] == True:\n",
    "#         print(i)\n",
    "#     else:\n",
    "#         continue"
   ]
  },
  {
   "cell_type": "code",
   "execution_count": 16,
   "id": "be32634a",
   "metadata": {},
   "outputs": [],
   "source": [
    "# for i in range(len(cabecera.columns.values)):\n",
    "#     if cabecera.columns.get_loc(\"AREA_y\")[i] == True:\n",
    "#         print(i)\n",
    "#     else:\n",
    "#         continue"
   ]
  },
  {
   "cell_type": "code",
   "execution_count": 17,
   "id": "13289162",
   "metadata": {},
   "outputs": [],
   "source": [
    "# a = area.columns.values\n",
    "# b = cabecera.columns.values\n",
    "# c = resto.columns.values\n",
    "\n",
    "# for i in range(len(a)):\n",
    "#     if a[i] == b[i]:\n",
    "#         if a[i] == c[i]:\n",
    "#             continue\n",
    "#         else:\n",
    "#             print(a[i])\n",
    "#     else:\n",
    "#         print(a[i])"
   ]
  },
  {
   "cell_type": "code",
   "execution_count": 18,
   "id": "66265d2a",
   "metadata": {},
   "outputs": [],
   "source": [
    "# df = [area, cabecera, resto]\n",
    "# df = pd.concat(df, ignore_index = True, sort = False, axis = 1)\n",
    "# df"
   ]
  }
 ],
 "metadata": {
  "kernelspec": {
   "display_name": "Python 3",
   "language": "python",
   "name": "python3"
  },
  "language_info": {
   "codemirror_mode": {
    "name": "ipython",
    "version": 3
   },
   "file_extension": ".py",
   "mimetype": "text/x-python",
   "name": "python",
   "nbconvert_exporter": "python",
   "pygments_lexer": "ipython3",
   "version": "3.8.8"
  }
 },
 "nbformat": 4,
 "nbformat_minor": 5
}
